{
 "cells": [
  {
   "cell_type": "code",
   "execution_count": 9,
   "metadata": {},
   "outputs": [
    {
     "name": "stdout",
     "output_type": "stream",
     "text": [
      "training with input: (50000, 32, 32, 3)\n"
     ]
    }
   ],
   "source": [
    "import numpy as np\n",
    "import matplotlib.pyplot as plt\n",
    "\n",
    "from tensorflow.keras.datasets import cifar10\n",
    "from skimage.util import view_as_windows\n",
    "\n",
    "from skimage.measure import block_reduce\n",
    "from framework.dftloss import *\n",
    "# ---------- Load MNIST data and split ----------\n",
    "(x_train, y_train), (x_test,y_test) = cifar10.load_data()\n",
    "# -----------Data Preprocessing-----------\n",
    "x_train = np.asarray(x_train,dtype='float32')\n",
    "x_test = np.asarray(x_test,dtype='float32')\n",
    "y_train = np.asarray(y_train,dtype='int')\n",
    "y_test = np.asarray(y_test,dtype='int')\n",
    "print(\"training with input:\", x_train.shape)\n"
   ]
  },
  {
   "cell_type": "code",
   "execution_count": 5,
   "metadata": {},
   "outputs": [],
   "source": [
    "def HAAR_Transform(Xinput, steps = 1):\n",
    "\n",
    "    featuremaps = []\n",
    "    featmap = Xinput\n",
    "    curstep = 0\n",
    "    while curstep < steps:\n",
    "        \n",
    "        print(\"_____________in step :\", curstep, '_______________')\n",
    "        print(\"input feature map:\", featmap.shape)\n",
    "        curstep += 1\n",
    "        win = 2\n",
    "        stride = 1\n",
    "        X = view_as_windows(featmap, (1, win, win, 1), (1, stride, stride, 1))\n",
    "        X = X.reshape(X.shape[0], X.shape[1], X.shape[2], X.shape[3],-1)\n",
    "        \n",
    "        # print(\"shape for HAAR input:\", X.shape)\n",
    "        p0 = X[:,:,:,:,0]\n",
    "        p1 = X[:,:,:,:,1]\n",
    "        p2 = X[:,:,:,:,2]\n",
    "        p3 = X[:,:,:,:,3]\n",
    "\n",
    "        b0 = (p0 + p1) + (p2 + p3) #DC level\n",
    "        b1 = (p0 - p1) + (p2 - p3) #'Horizontal difference\n",
    "        b2 = (p0 + p1) - (p2 + p3) #'Vertical difference\n",
    "        b3 = (p0 - p1) - (p2 - p3) #'Horizontal and vertical difference\n",
    "        \n",
    "        feattmp = np.concatenate((b0, b1, b2, b3), axis = -1 )\n",
    "        feattmp = MaxPooling(feattmp)\n",
    "        print(\"transformed shape for current step:\", feattmp.shape)\n",
    "        featuremaps.append(feattmp)\n",
    "        \n",
    "        featmap = feattmp[:,:,:,:3]\n",
    "    \n",
    "    return featuremaps\n",
    "       \n",
    "\n",
    "def MaxPooling(x,step=2):\n",
    "    if len(x.shape)<4:\n",
    "        return block_reduce(x, (1, step, step), np.max)\n",
    "    else:\n",
    "        return block_reduce(x, (1, step, step, 1), np.max) "
   ]
  },
  {
   "cell_type": "code",
   "execution_count": 6,
   "metadata": {},
   "outputs": [
    {
     "name": "stdout",
     "output_type": "stream",
     "text": [
      "_____________in step : 0 _______________\n",
      "input feature map: (1, 32, 32, 3)\n",
      "transformed shape for current step: (1, 16, 16, 12)\n",
      "_____________in step : 1 _______________\n",
      "input feature map: (1, 16, 16, 3)\n",
      "transformed shape for current step: (1, 8, 8, 12)\n",
      "_____________in step : 2 _______________\n",
      "input feature map: (1, 8, 8, 3)\n",
      "transformed shape for current step: (1, 4, 4, 12)\n",
      "_____________in step : 3 _______________\n",
      "input feature map: (1, 4, 4, 3)\n",
      "transformed shape for current step: (1, 2, 2, 12)\n",
      "(1, 16, 16, 12)\n",
      "(1, 8, 8, 12)\n",
      "(1, 4, 4, 12)\n",
      "(1, 2, 2, 12)\n"
     ]
    }
   ],
   "source": [
    "test = HAAR_Transform(x_train[:1], 4)\n",
    "\n",
    "for featmap in test:\n",
    "    \n",
    "    print(featmap.shape)"
   ]
  },
  {
   "cell_type": "code",
   "execution_count": 8,
   "metadata": {},
   "outputs": [],
   "source": [
    "# DFT functions:\n",
    "import numpy as np\n",
    "from collections import Counter\n",
    "\n",
    "def split_process_we(X, y, split, numclass = 2):\n",
    "\n",
    "    leftidx = np.where(X<=split)\n",
    "    rightidx = np.where(X>split)\n",
    "    \n",
    "    # print(\"check left and right:\", leftidx[0].shape, rightidx[0].shape)\n",
    "    return weighted_entropy_for_splitting(leftidx, rightidx, y, numclass)\n",
    "\n",
    "def cal_entropy(prob,numclass=2):\n",
    "    \n",
    "    prob_tmp = np.copy(prob)\n",
    "    prob_tmp[prob_tmp==0] = 1 # ignore this term\n",
    "    tmp = np.sum(-1*prob*np.log(prob_tmp),axis=-1)\n",
    "    return tmp/np.log10(numclass)\n",
    "\n",
    "def entropy_with_label(yinput, numclass=2):\n",
    "    \n",
    "    # yinput in shape [N, C]\n",
    "    # yinput = np.argmax(yinput, axis=-1)\n",
    "    \n",
    "    prob = np.zeros(numclass)\n",
    "    samplecount = Counter(yinput)\n",
    "    sampletot = yinput.shape[0]\n",
    "    for i in range(numclass):\n",
    "        \n",
    "        prob[i] = samplecount[i]/sampletot\n",
    "    \n",
    "    return cal_entropy(prob, numclass = numclass)\n",
    "\n",
    "def weighted_entropy_for_splitting(leftidx, rightidx, ynode, numclass):\n",
    "    \n",
    "    if leftidx[0].shape[0] == 0 or rightidx[0].shape[0] == 0:\n",
    "        # invalid splitting\n",
    "        return float('inf')\n",
    "    \n",
    "    lefty = ynode[leftidx]\n",
    "    righty = ynode[rightidx]\n",
    "\n",
    "    # use majority class as prediction target\n",
    "    leftentropy = entropy_with_label(lefty, numclass = numclass)\n",
    "    rightentropy = entropy_with_label(righty, numclass = numclass)\n",
    "    weightedentropy = len(lefty)/len(ynode) * leftentropy + len(righty)/len(ynode) * rightentropy\n",
    "    # print(len(lefty), len(righty))\n",
    "    # print(\"left:\", leftentropy, \"right:\", rightentropy, \"weighted:\", weightedentropy)\n",
    "    return weightedentropy\n"
   ]
  },
  {
   "cell_type": "code",
   "execution_count": 51,
   "metadata": {},
   "outputs": [
    {
     "name": "stdout",
     "output_type": "stream",
     "text": [
      "in featmap: 0\n",
      "(50000, 16, 16, 12)\n",
      "channel: 0\n",
      "channel: 1\n",
      "channel: 2\n",
      "channel: 3\n",
      "channel: 4\n",
      "channel: 5\n",
      "channel: 6\n",
      "channel: 7\n",
      "channel: 8\n",
      "channel: 9\n",
      "channel: 10\n",
      "channel: 11\n",
      "in featmap: 1\n",
      "(50000, 8, 8, 12)\n",
      "channel: 0\n",
      "channel: 1\n",
      "channel: 2\n",
      "channel: 3\n",
      "channel: 4\n",
      "channel: 5\n",
      "channel: 6\n",
      "channel: 7\n",
      "channel: 8\n",
      "channel: 9\n",
      "channel: 10\n",
      "channel: 11\n",
      "in featmap: 2\n",
      "(50000, 4, 4, 12)\n",
      "channel: 0\n",
      "channel: 1\n",
      "channel: 2\n",
      "channel: 3\n",
      "channel: 4\n",
      "channel: 5\n",
      "channel: 6\n",
      "channel: 7\n",
      "channel: 8\n",
      "channel: 9\n",
      "channel: 10\n",
      "channel: 11\n",
      "in featmap: 3\n",
      "(50000, 2, 2, 12)\n",
      "channel: 0\n",
      "channel: 1\n",
      "channel: 2\n",
      "channel: 3\n",
      "channel: 4\n",
      "channel: 5\n",
      "channel: 6\n",
      "channel: 7\n",
      "channel: 8\n",
      "channel: 9\n",
      "channel: 10\n",
      "channel: 11\n"
     ]
    }
   ],
   "source": [
    "# test each feature maps:\n",
    "# visualization\n",
    "# for idx, featmap in enumerate(test):\n",
    "    \n",
    "#     # print(\"in featmap:\", idx)\n",
    "#     print(featmap.shape)\n",
    "#     for i in range(featmap.shape[-1]):\n",
    "        \n",
    "#         # print('channel:', i)\n",
    "#         plt.imshow(featmap[0,:,:,i])\n",
    "#         # plt.show()\n",
    "#         plt.savefig('./results/hopidx_' + str(idx) + \"_channel_\" + str(i) + '.jpg')\n",
    "#         plt.close()"
   ]
  },
  {
   "cell_type": "code",
   "execution_count": 13,
   "metadata": {},
   "outputs": [
    {
     "name": "stdout",
     "output_type": "stream",
     "text": [
      "(50000, 32, 32, 3)\n",
      "(100000, 32, 32, 3)\n"
     ]
    }
   ],
   "source": [
    "import lightgbm as lgb\n",
    "from sklearn.metrics import accuracy_score, confusion_matrix, plot_confusion_matrix\n",
    "import pandas as pd\n",
    "import seaborn as sn\n",
    "import cv2\n",
    "Xtrain = []\n",
    "for img in x_train:\n",
    "    \n",
    "    imgflip = cv2.flip(img,1)\n",
    "    Xtrain.append(imgflip)\n",
    "    \n",
    "Xtrain = np.array(Xtrain)\n",
    "print(Xtrain.shape)\n",
    "\n",
    "Xtrain = np.concatenate((Xtrain,x_train),axis=0)\n",
    "print(Xtrain.shape)\n",
    "\n",
    "Ytrain = np.concatenate((y_train,y_train),axis=0)\n",
    "\n"
   ]
  },
  {
   "attachments": {},
   "cell_type": "markdown",
   "metadata": {},
   "source": [
    "# Input Format"
   ]
  },
  {
   "attachments": {},
   "cell_type": "markdown",
   "metadata": {},
   "source": [
    "## RGB ( no change )"
   ]
  },
  {
   "cell_type": "code",
   "execution_count": null,
   "metadata": {},
   "outputs": [],
   "source": [
    "feattrain = HAAR_Transform(Xtrain, 4)\n",
    "feattest = HAAR_Transform(x_test, 4)\n",
    "\n",
    "print(\"train feats:\")\n",
    "for feat in feattrain:\n",
    "    \n",
    "    print(feat.shape)\n",
    "    \n",
    "print(\"test feats:\")\n",
    "for feat in feattest:\n",
    "    \n",
    "    print(feat.shape)"
   ]
  },
  {
   "attachments": {},
   "cell_type": "markdown",
   "metadata": {},
   "source": [
    "## PCA decomposed"
   ]
  },
  {
   "cell_type": "code",
   "execution_count": 14,
   "metadata": {},
   "outputs": [
    {
     "name": "stdout",
     "output_type": "stream",
     "text": [
      "(100000, 32, 32, 3)\n",
      "(100000, 32, 32, 3)\n"
     ]
    }
   ],
   "source": [
    "from sklearn.decomposition import PCA\n",
    "\n",
    "Xtrain = np.array(Xtrain)\n",
    "print(Xtrain.shape)\n",
    "S = Xtrain.shape\n",
    "Xtrain = Xtrain.reshape((-1, 3))\n",
    "pca = PCA(n_components=3, svd_solver='full')\n",
    "pca.fit(Xtrain)\n",
    "\n",
    "Xtrain_PCA = pca.transform(Xtrain)\n",
    "Xtrain_PCA = Xtrain_PCA.reshape(S)\n",
    "print(Xtrain_PCA.shape)\n",
    "\n"
   ]
  },
  {
   "cell_type": "code",
   "execution_count": 15,
   "metadata": {},
   "outputs": [
    {
     "name": "stdout",
     "output_type": "stream",
     "text": [
      "_____________in step : 0 _______________\n",
      "input feature map: (100000, 32, 32, 3)\n",
      "transformed shape for current step: (100000, 16, 16, 12)\n",
      "_____________in step : 1 _______________\n",
      "input feature map: (100000, 16, 16, 3)\n",
      "transformed shape for current step: (100000, 8, 8, 12)\n",
      "_____________in step : 2 _______________\n",
      "input feature map: (100000, 8, 8, 3)\n",
      "transformed shape for current step: (100000, 4, 4, 12)\n",
      "_____________in step : 3 _______________\n",
      "input feature map: (100000, 4, 4, 3)\n",
      "transformed shape for current step: (100000, 2, 2, 12)\n",
      "_____________in step : 0 _______________\n",
      "input feature map: (10000, 32, 32, 3)\n",
      "transformed shape for current step: (10000, 16, 16, 12)\n",
      "_____________in step : 1 _______________\n",
      "input feature map: (10000, 16, 16, 3)\n",
      "transformed shape for current step: (10000, 8, 8, 12)\n",
      "_____________in step : 2 _______________\n",
      "input feature map: (10000, 8, 8, 3)\n",
      "transformed shape for current step: (10000, 4, 4, 12)\n",
      "_____________in step : 3 _______________\n",
      "input feature map: (10000, 4, 4, 3)\n",
      "transformed shape for current step: (10000, 2, 2, 12)\n",
      "train feats:\n",
      "(100000, 16, 16, 12)\n",
      "(100000, 8, 8, 12)\n",
      "(100000, 4, 4, 12)\n",
      "(100000, 2, 2, 12)\n",
      "test feats:\n",
      "(10000, 16, 16, 12)\n",
      "(10000, 8, 8, 12)\n",
      "(10000, 4, 4, 12)\n",
      "(10000, 2, 2, 12)\n"
     ]
    }
   ],
   "source": [
    "feattrain = HAAR_Transform(Xtrain_PCA, 4)\n",
    "\n",
    "S = x_test.shape\n",
    "x_test_pca = x_test.reshape((-1,3))\n",
    "x_test_pca = pca.transform(x_test_pca)\n",
    "x_test_pca = x_test_pca.reshape(S)\n",
    "feattest = HAAR_Transform(x_test_pca, 4)\n",
    "\n",
    "print(\"train feats:\")\n",
    "for feat in feattrain:\n",
    "    \n",
    "    print(feat.shape)\n",
    "    \n",
    "print(\"test feats:\")\n",
    "for feat in feattest:\n",
    "    \n",
    "    print(feat.shape)"
   ]
  },
  {
   "attachments": {},
   "cell_type": "markdown",
   "metadata": {},
   "source": [
    "## convert to HSV "
   ]
  },
  {
   "cell_type": "code",
   "execution_count": 12,
   "metadata": {},
   "outputs": [
    {
     "ename": "error",
     "evalue": "OpenCV(3.4.8) /io/opencv/modules/imgproc/src/color.simd_helpers.hpp:88: error: (-2:Unspecified error) in function 'cv::impl::{anonymous}::CvtHelper<VScn, VDcn, VDepth, sizePolicy>::CvtHelper(cv::InputArray, cv::OutputArray, int) [with VScn = cv::impl::{anonymous}::Set<3, 4>; VDcn = cv::impl::{anonymous}::Set<3>; VDepth = cv::impl::{anonymous}::Set<0, 5>; cv::impl::{anonymous}::SizePolicy sizePolicy = (cv::impl::<unnamed>::SizePolicy)2u; cv::InputArray = const cv::_InputArray&; cv::OutputArray = const cv::_OutputArray&]'\n> Invalid number of channels in input image:\n>     'VScn::contains(scn)'\n> where\n>     'scn' is 1\n",
     "output_type": "error",
     "traceback": [
      "\u001b[0;31m---------------------------------------------------------------------------\u001b[0m",
      "\u001b[0;31merror\u001b[0m                                     Traceback (most recent call last)",
      "\u001b[1;32m/media/hongyu/SSD/SSDUBUNTU/WUSL/Pixelhop-Pytorch/HAAR_filter.ipynb Cell 14\u001b[0m in \u001b[0;36m<cell line: 3>\u001b[0;34m()\u001b[0m\n\u001b[1;32m      <a href='vscode-notebook-cell:/media/hongyu/SSD/SSDUBUNTU/WUSL/Pixelhop-Pytorch/HAAR_filter.ipynb#X35sZmlsZQ%3D%3D?line=0'>1</a>\u001b[0m \u001b[39mimport\u001b[39;00m \u001b[39mcv2\u001b[39;00m\n\u001b[1;32m      <a href='vscode-notebook-cell:/media/hongyu/SSD/SSDUBUNTU/WUSL/Pixelhop-Pytorch/HAAR_filter.ipynb#X35sZmlsZQ%3D%3D?line=2'>3</a>\u001b[0m \u001b[39mfor\u001b[39;00m idx \u001b[39min\u001b[39;00m \u001b[39mrange\u001b[39m(Xtrain\u001b[39m.\u001b[39mshape[\u001b[39m0\u001b[39m]):\n\u001b[1;32m      <a href='vscode-notebook-cell:/media/hongyu/SSD/SSDUBUNTU/WUSL/Pixelhop-Pytorch/HAAR_filter.ipynb#X35sZmlsZQ%3D%3D?line=3'>4</a>\u001b[0m     \n\u001b[1;32m      <a href='vscode-notebook-cell:/media/hongyu/SSD/SSDUBUNTU/WUSL/Pixelhop-Pytorch/HAAR_filter.ipynb#X35sZmlsZQ%3D%3D?line=4'>5</a>\u001b[0m     \u001b[39m# plt.imshow(Xtrain[idx]/255)\u001b[39;00m\n\u001b[1;32m      <a href='vscode-notebook-cell:/media/hongyu/SSD/SSDUBUNTU/WUSL/Pixelhop-Pytorch/HAAR_filter.ipynb#X35sZmlsZQ%3D%3D?line=5'>6</a>\u001b[0m     \u001b[39m# plt.show()\u001b[39;00m\n\u001b[0;32m----> <a href='vscode-notebook-cell:/media/hongyu/SSD/SSDUBUNTU/WUSL/Pixelhop-Pytorch/HAAR_filter.ipynb#X35sZmlsZQ%3D%3D?line=6'>7</a>\u001b[0m     Xtrain[idx] \u001b[39m=\u001b[39m cv2\u001b[39m.\u001b[39;49mcvtColor(Xtrain[idx], cv2\u001b[39m.\u001b[39;49mCOLOR_RGB2HSV)\n\u001b[1;32m      <a href='vscode-notebook-cell:/media/hongyu/SSD/SSDUBUNTU/WUSL/Pixelhop-Pytorch/HAAR_filter.ipynb#X35sZmlsZQ%3D%3D?line=7'>8</a>\u001b[0m     \u001b[39m# plt.imshow(Xtraintmp[idx]/255)\u001b[39;00m\n\u001b[1;32m      <a href='vscode-notebook-cell:/media/hongyu/SSD/SSDUBUNTU/WUSL/Pixelhop-Pytorch/HAAR_filter.ipynb#X35sZmlsZQ%3D%3D?line=8'>9</a>\u001b[0m     \u001b[39m# plt.show()\u001b[39;00m\n\u001b[1;32m     <a href='vscode-notebook-cell:/media/hongyu/SSD/SSDUBUNTU/WUSL/Pixelhop-Pytorch/HAAR_filter.ipynb#X35sZmlsZQ%3D%3D?line=10'>11</a>\u001b[0m \u001b[39mfor\u001b[39;00m idx \u001b[39min\u001b[39;00m \u001b[39mrange\u001b[39m(x_test\u001b[39m.\u001b[39mshape[\u001b[39m0\u001b[39m]):\n",
      "\u001b[0;31merror\u001b[0m: OpenCV(3.4.8) /io/opencv/modules/imgproc/src/color.simd_helpers.hpp:88: error: (-2:Unspecified error) in function 'cv::impl::{anonymous}::CvtHelper<VScn, VDcn, VDepth, sizePolicy>::CvtHelper(cv::InputArray, cv::OutputArray, int) [with VScn = cv::impl::{anonymous}::Set<3, 4>; VDcn = cv::impl::{anonymous}::Set<3>; VDepth = cv::impl::{anonymous}::Set<0, 5>; cv::impl::{anonymous}::SizePolicy sizePolicy = (cv::impl::<unnamed>::SizePolicy)2u; cv::InputArray = const cv::_InputArray&; cv::OutputArray = const cv::_OutputArray&]'\n> Invalid number of channels in input image:\n>     'VScn::contains(scn)'\n> where\n>     'scn' is 1\n"
     ]
    }
   ],
   "source": [
    "import cv2\n",
    "\n",
    "for idx in range(Xtrain.shape[0]):\n",
    "    \n",
    "    # plt.imshow(Xtrain[idx]/255)\n",
    "    # plt.show()\n",
    "    Xtrain[idx] = cv2.cvtColor(Xtrain[idx], cv2.COLOR_RGB2HSV)\n",
    "    # plt.imshow(Xtraintmp[idx]/255)\n",
    "    # plt.show()\n",
    "    \n",
    "for idx in range(x_test.shape[0]):\n",
    "    \n",
    "    x_test[idx] = cv2.cvtColor(x_test[idx], cv2.COLOR_RGB2HSV)\n"
   ]
  },
  {
   "cell_type": "code",
   "execution_count": null,
   "metadata": {},
   "outputs": [],
   "source": [
    "\n",
    "feattrain = HAAR_Transform(Xtrain, 4)\n",
    "feattest = HAAR_Transform(x_test, 4)\n",
    "\n",
    "print(\"train feats:\")\n",
    "for feat in feattrain:\n",
    "    \n",
    "    print(feat.shape)\n",
    "    \n",
    "print(\"test feats:\")\n",
    "for feat in feattest:\n",
    "    \n",
    "    print(feat.shape)"
   ]
  },
  {
   "attachments": {},
   "cell_type": "markdown",
   "metadata": {},
   "source": [
    "# LightGBM feature evaluation"
   ]
  },
  {
   "attachments": {},
   "cell_type": "markdown",
   "metadata": {},
   "source": [
    "## Raw Feat"
   ]
  },
  {
   "cell_type": "code",
   "execution_count": 16,
   "metadata": {},
   "outputs": [
    {
     "name": "stdout",
     "output_type": "stream",
     "text": [
      "(100000, 3072) (10000, 3072)\n"
     ]
    }
   ],
   "source": [
    "hopidx = 0\n",
    "\n",
    "trainmap = feattrain[hopidx]\n",
    "testmap = feattest[hopidx]\n",
    "\n",
    "trainmap = trainmap.reshape(trainmap.shape[0], -1)\n",
    "testmap = testmap.reshape(testmap.shape[0], -1)\n",
    "\n",
    "print(trainmap.shape, testmap.shape)"
   ]
  },
  {
   "attachments": {},
   "cell_type": "markdown",
   "metadata": {},
   "source": [
    "## DFT"
   ]
  },
  {
   "cell_type": "code",
   "execution_count": 18,
   "metadata": {},
   "outputs": [
    {
     "name": "stderr",
     "output_type": "stream",
     "text": [
      "  0%|          | 0/3072 [00:00<?, ?it/s]"
     ]
    },
    {
     "name": "stdout",
     "output_type": "stream",
     "text": [
      "(100000, 1)\n"
     ]
    },
    {
     "name": "stderr",
     "output_type": "stream",
     "text": [
      " 10%|▉         | 307/3072 [01:53<16:59,  2.71it/s]"
     ]
    }
   ],
   "source": [
    "# from framework.DFT import *\n",
    "from tqdm import tqdm\n",
    "\n",
    "K_for_split = 32 # try less than 128\n",
    "num_classes = 10\n",
    "nSamples = trainmap.shape[0]\n",
    "\n",
    "lossrecord = []\n",
    "lossDR = []\n",
    "# train_target = train_target.reshape(train_target.shape[0])\n",
    "# y = Ytrain.reshape(Ytrain.shape[0])\n",
    "# y = Ytrain.astype(\"float64\")\n",
    "y = Ytrain.reshape(Ytrain.shape[0], 1)\n",
    "y = y.astype(\"float64\")\n",
    "\n",
    "print(y.shape)\n",
    "\n",
    "for featidx in tqdm(range(trainmap.shape[-1])):\n",
    "# for featidx in range(2):\n",
    "    \n",
    "    X = trainmap[:,featidx]\n",
    "    # X = X.reshape(X.shape)\n",
    "    # X = np.squeeze(testfeat[:,featidx], axis = 1)\n",
    "    X = X.astype('float64')\n",
    "\n",
    "    splits = np.linspace(X.min(), X.max(), K_for_split)\n",
    "    losstmp = []\n",
    "    losstmp1 = []\n",
    "    for i in range(1,splits.shape[0]-1):\n",
    "        \n",
    "        # losscur.append(split_process_reg(Xnode, Ynode, splits[i]))\n",
    "        losstmp.append(split_process_we(X , y, splits[i], numclass = num_classes))\n",
    "\n",
    "    lossrecord.append(np.min(losstmp))\n",
    "    lossDR.append(np.max(losstmp) - np.min(losstmp))\n",
    "\n",
    "plt.plot(sorted(lossrecord))\n",
    "plt.show()\n",
    "    \n",
    "plt.plot(sorted(lossDR))\n",
    "plt.show()"
   ]
  },
  {
   "attachments": {},
   "cell_type": "markdown",
   "metadata": {},
   "source": [
    "## Compressed Feature"
   ]
  },
  {
   "cell_type": "code",
   "execution_count": 154,
   "metadata": {},
   "outputs": [
    {
     "name": "stdout",
     "output_type": "stream",
     "text": [
      "(100000, 2, 2, 12)\n",
      "(100000, 12)\n",
      "(100000, 20)\n",
      "(10000, 2, 2, 12)\n",
      "(10000, 12)\n",
      "(10000, 20)\n"
     ]
    }
   ],
   "source": [
    "hopidx = 3\n",
    "spatial = 1 # hyper parameters\n",
    "featmap = feattrain[hopidx]\n",
    "feat1 = featmap\n",
    "S = feat1.shape\n",
    "print(feat1.shape)\n",
    "\n",
    "feat1 = block_reduce(feat1, (1, S[1]//spatial, S[2]//spatial, 1), np.max)\n",
    "feat1 = feat1.reshape(S[0], -1)\n",
    "print(feat1.shape)\n",
    "\n",
    "feat2 = np.linalg.norm(featmap, ord=2, axis = -1)\n",
    "feat2 = feat2.reshape((S[0], -1))\n",
    "# print(feat2.shape)\n",
    "\n",
    "feat3 = np.linalg.norm(featmap, ord=1, axis = -1)\n",
    "feat3 = feat3.reshape((S[0], -1))\n",
    "# print(feat3.shape)\n",
    "\n",
    "trainmap = np.concatenate((feat1, feat2, feat3), axis= -1)\n",
    "print(trainmap.shape)\n",
    "\n",
    "\n",
    "featmap = feattest[hopidx]\n",
    "feat1 = featmap\n",
    "S = feat1.shape\n",
    "print(feat1.shape)\n",
    "# spatial = 2 # hyper parameters\n",
    "feat1 = block_reduce(feat1, (1, S[1]//spatial, S[2]//spatial, 1), np.max)\n",
    "feat1 = feat1.reshape(S[0], -1)\n",
    "print(feat1.shape)\n",
    "\n",
    "\n",
    "feat2 = np.linalg.norm(featmap, ord=2, axis = -1)\n",
    "feat2 = feat2.reshape((S[0], -1))\n",
    "# print(feat2.shape)\n",
    "\n",
    "feat3 = np.linalg.norm(featmap, ord=1, axis = -1)\n",
    "feat3 = feat3.reshape((S[0], -1))\n",
    "# print(feat3.shape)\n",
    "\n",
    "testmap = np.concatenate((feat1, feat2, feat3), axis= -1)\n",
    "print(testmap.shape)"
   ]
  },
  {
   "attachments": {},
   "cell_type": "markdown",
   "metadata": {},
   "source": [
    "## LightGBM start"
   ]
  },
  {
   "cell_type": "code",
   "execution_count": 155,
   "metadata": {},
   "outputs": [
    {
     "name": "stdout",
     "output_type": "stream",
     "text": [
      "train data: (99000, 20) (99000, 1)\n",
      "val data: (1000, 20) (1000, 1)\n"
     ]
    }
   ],
   "source": [
    "from sklearn.model_selection import train_test_split\n",
    "\n",
    "X_fit, X_val, y_fit, y_val = train_test_split(\n",
    "    trainmap, Ytrain, test_size=0.01, random_state=42)\n",
    "\n",
    "print(\"train data:\", X_fit.shape, y_fit.shape)\n",
    "print(\"val data:\", X_val.shape, y_val.shape)"
   ]
  },
  {
   "cell_type": "code",
   "execution_count": 156,
   "metadata": {},
   "outputs": [
    {
     "name": "stdout",
     "output_type": "stream",
     "text": [
      "train data: (99000, 20) (99000, 1)\n",
      "val data: (1000, 20) (1000, 1)\n"
     ]
    },
    {
     "data": {
      "image/png": "[encoded data removed]",
      "text/plain": [
       "<Figure size 640x480 with 1 Axes>"
      ]
     },
     "metadata": {},
     "output_type": "display_data"
    },
    {
     "name": "stderr",
     "output_type": "stream",
     "text": [
      "/home/hongyu/anaconda3/envs/saab/lib/python3.8/site-packages/lightgbm/basic.py:169: UserWarning: Converting column-vector to 1d array\n",
      "  _log_warning('Converting column-vector to 1d array')\n"
     ]
    },
    {
     "name": "stdout",
     "output_type": "stream",
     "text": [
      "[100]\tfit's multi_logloss: 1.4228\tval's multi_logloss: 1.74767\n",
      "[200]\tfit's multi_logloss: 1.19063\tval's multi_logloss: 1.75764\n",
      "[300]\tfit's multi_logloss: 1.00878\tval's multi_logloss: 1.76696\n",
      "[400]\tfit's multi_logloss: 0.853139\tval's multi_logloss: 1.7839\n",
      "[500]\tfit's multi_logloss: 0.718842\tval's multi_logloss: 1.79941\n",
      "[600]\tfit's multi_logloss: 0.606471\tval's multi_logloss: 1.81808\n",
      "[700]\tfit's multi_logloss: 0.509199\tval's multi_logloss: 1.83307\n",
      "[800]\tfit's multi_logloss: 0.425801\tval's multi_logloss: 1.85051\n",
      "[900]\tfit's multi_logloss: 0.354243\tval's multi_logloss: 1.87115\n",
      "[1000]\tfit's multi_logloss: 0.294459\tval's multi_logloss: 1.895\n",
      "training time: 72.017817735672\n",
      "Plot metrics recorded during training...\n"
     ]
    },
    {
     "data": {
      "image/png": "[encoded data removed]",
      "text/plain": [
       "<Figure size 640x480 with 1 Axes>"
      ]
     },
     "metadata": {},
     "output_type": "display_data"
    },
    {
     "data": {
      "image/png": "[encoded data removed]",
      "text/plain": [
       "<Figure size 640x480 with 1 Axes>"
      ]
     },
     "metadata": {},
     "output_type": "display_data"
    },
    {
     "name": "stdout",
     "output_type": "stream",
     "text": [
      "Train Accuary: 98.92%\n"
     ]
    }
   ],
   "source": [
    "import lightgbm as lgb\n",
    "import math\n",
    "from sklearn.metrics import accuracy_score, confusion_matrix, plot_confusion_matrix\n",
    "import pandas as pd\n",
    "import seaborn as sn\n",
    "import time\n",
    "\n",
    "print(\"train data:\", X_fit.shape, y_fit.shape)\n",
    "print(\"val data:\", X_val.shape, y_val.shape)\n",
    "\n",
    "fit = lgb.Dataset(\n",
    "    X_fit, y_fit,\n",
    ")\n",
    "\n",
    "val = lgb.Dataset(\n",
    "    X_val, y_val,\n",
    ")\n",
    "\n",
    "maxdepth = 5\n",
    "lr0 = 0.2 # make sure GD at the begining\n",
    "lr_final = 0.2 # make sure final converge faster\n",
    "k = -0.001 # lower -> more smooth\n",
    "num_rounds = 1000\n",
    "rounds = np.arange(num_rounds)\n",
    "rounds_lr = lr0 * math.e**(k * rounds)\n",
    "plt.plot(rounds, rounds_lr)\n",
    "plt.title(\"learning rate curve, lr_final at #\" + str(int(math.log(lr_final/lr0)/k)) )\n",
    "plt.show()\n",
    "\n",
    "evals_result = {} \n",
    "\n",
    "t0 = time.time()\n",
    "model = lgb.train(\n",
    "    params={\n",
    "        'learning_rate': 0.1,\n",
    "        'max_depth': maxdepth,\n",
    "        # 'num_leaves': 10,\n",
    "        'device' : 'gpu',\n",
    "        # 'gpu_platform_id' : 0,\n",
    "        # 'gpu_device_id' : 0 ,\n",
    "        # 'num_gpu' : 2,\n",
    "        'objective': 'multiclass',\n",
    "        'num_class':10,\n",
    "        # 'feature_fraction': 0.4,\n",
    "        # 'bagging_fraction': 0.6,\n",
    "        # 'bagging_freq': 10,\n",
    "        'verbose' : -1\n",
    "           },\n",
    "    train_set=fit,\n",
    "    num_boost_round=num_rounds,\n",
    "    valid_sets=(fit, val),\n",
    "    valid_names=('fit', 'val'),\n",
    "    # early_stopping_rounds=200,\n",
    "    evals_result=evals_result,\n",
    "    verbose_eval=100,\n",
    "    # fobj=fl.lgb_obj,\n",
    "    # feval=fl.lgb_eval,\n",
    "    callbacks=[lgb.reset_parameter(learning_rate=lambda \\\n",
    "        current_round: max(lr0 * math.e**(k * current_round), lr_final))]\n",
    ")\n",
    "\n",
    "print(\"training time:\", time.time()-t0)\n",
    "print('Plot metrics recorded during training...')\n",
    "ax = lgb.plot_metric(evals_result)\n",
    "plt.show()\n",
    "\n",
    "plt.plot(evals_result['val']['multi_logloss'])\n",
    "plt.show()\n",
    "\n",
    "y_preds =model.predict(X_fit)\n",
    "y_train_preds = []\n",
    "for x in y_preds:\n",
    "    y_train_preds.append(np.argmax(x))\n",
    "\n",
    "y_train_preds = np.array(y_train_preds)\n",
    "\n",
    "train_accuracy = accuracy_score(y_fit, y_train_preds)\n",
    "print (\"Train Accuary: %.2f%%\" % (train_accuracy * 100.0))\n"
   ]
  },
  {
   "cell_type": "code",
   "execution_count": 157,
   "metadata": {},
   "outputs": [
    {
     "name": "stdout",
     "output_type": "stream",
     "text": [
      "Test Accuary: 35.05%\n"
     ]
    },
    {
     "data": {
      "image/png": "[encoded data removed]",
      "text/plain": [
       "<Figure size 640x480 with 2 Axes>"
      ]
     },
     "metadata": {},
     "output_type": "display_data"
    }
   ],
   "source": [
    "t0 = time.time()\n",
    "y_test_preds = []\n",
    "# y_preds =model.predict(feattest)\n",
    "y_preds = model.predict(testmap)\n",
    "for x in y_preds:\n",
    "    y_test_preds.append(np.argmax(x))\n",
    "y_test_preds = np.array(y_test_preds)\n",
    "\n",
    "pred_accuracy_score = accuracy_score(y_test, y_test_preds)\n",
    "# pred_recall_score = recall_score(y_test, y_test_pred, average='macro')\n",
    "print(\"Test Accuary: %.2f%%\" % (pred_accuracy_score* 100.0))\n",
    "# print('inference time:', time.time() - t0)\n",
    "\n",
    "cnf_matrix = confusion_matrix(y_test, y_test_preds)\n",
    "df_cm = pd.DataFrame(cnf_matrix)\n",
    "sn.heatmap(df_cm)\n",
    "plt.show()"
   ]
  },
  {
   "cell_type": "code",
   "execution_count": null,
   "metadata": {},
   "outputs": [],
   "source": []
  }
 ],
 "metadata": {
  "kernelspec": {
   "display_name": "saab",
   "language": "python",
   "name": "python3"
  },
  "language_info": {
   "codemirror_mode": {
    "name": "ipython",
    "version": 3
   },
   "file_extension": ".py",
   "mimetype": "text/x-python",
   "name": "python",
   "nbconvert_exporter": "python",
   "pygments_lexer": "ipython3",
   "version": "3.8.13"
  },
  "orig_nbformat": 4,
  "vscode": {
   "interpreter": {
    "hash": "492f2b1cb6759606e5afbb8e792dc4d3b5e25cf4624a4af2a660ba1797daa55d"
   }
  }
 },
 "nbformat": 4,
 "nbformat_minor": 2
}
