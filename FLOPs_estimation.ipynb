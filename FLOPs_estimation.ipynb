{
 "cells": [
  {
   "attachments": {},
   "cell_type": "markdown",
   "metadata": {},
   "source": [
    "# Example estimation of FLOPs from adjacent hops"
   ]
  },
  {
   "cell_type": "code",
   "execution_count": null,
   "metadata": {},
   "outputs": [],
   "source": [
    "# e.g. hop2 has [14,14, 42]\n",
    "# among 42 channels, 22 are child nodes, 20 are parent nodes\n",
    "# during hop2 to hop3 transform\n",
    "# each of the 20 parent node will do:\n",
    "# [14, 14, 1] - > [10, 10 , 25] Neighborhood construction\n",
    "# [10, 10, 25] @ [25, 25] - > [10, 10 , 25] # FLOPs = 10 * 10 * 25 * 25 \n",
    "# maxpooling [5, 5, 25]"
   ]
  },
  {
   "cell_type": "code",
   "execution_count": 32,
   "metadata": {},
   "outputs": [
    {
     "name": "stdout",
     "output_type": "stream",
     "text": [
      "1250000 1.25 M\n"
     ]
    }
   ],
   "source": [
    "num_parent = 20\n",
    "filtersize = 5\n",
    "inputres = 14\n",
    "channelFLOPs = ( inputres - filtersize + 1) ** 2 * filtersize ** 4 \n",
    "totalFLOPs = num_parent * channelFLOPs\n",
    "\n",
    "print(totalFLOPs, totalFLOPs/1e6, 'M')"
   ]
  },
  {
   "cell_type": "code",
   "execution_count": 7,
   "metadata": {},
   "outputs": [
    {
     "name": "stdout",
     "output_type": "stream",
     "text": [
      "depth: 6\n",
      "num tree: 300\n",
      "FLOPs 372000 0.372 M\n"
     ]
    }
   ],
   "source": [
    "treedepth = 6\n",
    "numtree = 300\n",
    "res = 0\n",
    "\n",
    "layertmp = numtree * 20\n",
    "for i in range(1,treedepth):\n",
    "    \n",
    "    res += layertmp\n",
    "    layertmp = layertmp * 2\n",
    "    \n",
    "print('depth:', treedepth)\n",
    "print('num tree:', numtree)\n",
    "print('FLOPs', res * 2, res*2/1e6, 'M')"
   ]
  },
  {
   "cell_type": "code",
   "execution_count": 8,
   "metadata": {},
   "outputs": [
    {
     "data": {
      "text/plain": [
       "16.74"
      ]
     },
     "execution_count": 8,
     "metadata": {},
     "output_type": "execute_result"
    }
   ],
   "source": [
    "0.372 * 45"
   ]
  },
  {
   "cell_type": "code",
   "execution_count": 9,
   "metadata": {},
   "outputs": [
    {
     "name": "stdout",
     "output_type": "stream",
     "text": [
      "1843200 1.8432 M\n"
     ]
    }
   ],
   "source": [
    "input = [ 3, 32, 32]\n",
    "kernel = [24, 5, 5]\n",
    "\n",
    "\n",
    "def calFLOPs(input, kernel):\n",
    "    \n",
    "    res = 1\n",
    "    for x in input:\n",
    "        \n",
    "        res *= x\n",
    "        \n",
    "    for x in kernel:\n",
    "        \n",
    "        res *= x\n",
    "        \n",
    "    return res\n",
    "\n",
    "res = calFLOPs(input, kernel)\n",
    "print(res, res/1e6, 'M')"
   ]
  },
  {
   "cell_type": "code",
   "execution_count": 12,
   "metadata": {},
   "outputs": [
    {
     "name": "stdout",
     "output_type": "stream",
     "text": [
      "<zip object at 0x7f536d46c680>\n"
     ]
    }
   ],
   "source": [
    "print(zip(input_list, kernel_list))"
   ]
  },
  {
   "cell_type": "code",
   "execution_count": 14,
   "metadata": {},
   "outputs": [
    {
     "name": "stdout",
     "output_type": "stream",
     "text": [
      "[3, 32, 32] [3, 1, 1] 9216\n",
      "[1, 32, 32] [24, 5, 5] 614400\n",
      "[24, 15, 15] [144, 5, 5] 19440000\n",
      "[144, 7, 7] [203, 5, 5] 35809200\n",
      "[203, 5, 5] [211, 5, 5] 26770625\n",
      "82.643441\n"
     ]
    }
   ],
   "source": [
    "input_list = [[3,32,32], [1,32,32] , [24,15,15], [144,7,7], [203,5,5] ]\n",
    "kernel_list = [[3,1,1],  [24, 5, 5], [144, 5,5], [203, 5,5], [211,5,5]]\n",
    "\n",
    "res = 0\n",
    "\n",
    "for input, kernel in zip(input_list, kernel_list):\n",
    "    \n",
    "    print(input, kernel, calFLOPs(input, kernel))\n",
    "    res += calFLOPs(input, kernel)\n",
    "    \n",
    "print(res/ 1e6)"
   ]
  },
  {
   "cell_type": "code",
   "execution_count": 30,
   "metadata": {},
   "outputs": [
    {
     "name": "stdout",
     "output_type": "stream",
     "text": [
      "[3, 32, 32] [3, 1, 1] 9216\n",
      "[1, 32, 32] [22, 5, 5] 563200\n",
      "[22, 15, 15] [114, 5, 5] 14107500\n",
      "[114, 7, 7] [174, 5, 5] 24299100\n",
      "[174, 5, 5] [185, 5, 5] 20118750\n",
      "59.097766\n"
     ]
    }
   ],
   "source": [
    "input_list = [[3,32,32], [1,32,32] , [22,15,15], [114,7,7], [174,5,5] ]\n",
    "kernel_list = [[3,1,1],  [22, 5, 5], [114, 5,5], [174, 5,5], [185,5,5]]\n",
    "\n",
    "res = 0\n",
    "\n",
    "for input, kernel in zip(input_list, kernel_list):\n",
    "    \n",
    "    print(input, kernel, calFLOPs(input, kernel))\n",
    "    res += calFLOPs(input, kernel)\n",
    "    \n",
    "print(res/ 1e6)"
   ]
  },
  {
   "cell_type": "code",
   "execution_count": 31,
   "metadata": {},
   "outputs": [
    {
     "data": {
      "text/plain": [
       "159.225207"
      ]
     },
     "execution_count": 31,
     "metadata": {},
     "output_type": "execute_result"
    }
   ],
   "source": [
    "82.643441 + 59.097766 + 0.372 * 47\n"
   ]
  },
  {
   "cell_type": "code",
   "execution_count": null,
   "metadata": {},
   "outputs": [],
   "source": [
    "input_list = [[3,32,32], [1,32,32] , [24,15,15], [144,7,7], [203,5,5] ]\n",
    "kernel_list = [[3,1,1],  [24, 5, 5], [144, 5,5], [203, 5,5], [211,5,5]]\n",
    "\n",
    "res = 0\n",
    "for input, kernel in zip(input_list, kernel_list):\n",
    "    \n",
    "    res += calFLOPs(input, kernel)\n",
    "    \n",
    "print(res/ 1e6)"
   ]
  },
  {
   "cell_type": "code",
   "execution_count": 17,
   "metadata": {},
   "outputs": [
    {
     "name": "stdout",
     "output_type": "stream",
     "text": [
      "14553 14.553\n"
     ]
    }
   ],
   "source": [
    "def calmodelsize(kernel):\n",
    "    \n",
    "    res = 1\n",
    "    for x in kernel:\n",
    "        \n",
    "        res *= x\n",
    "        \n",
    "    return res\n",
    "\n",
    "modelsize = 0\n",
    "for kernel in kernel_list:\n",
    "    \n",
    "    modelsize  += calmodelsize(kernel)\n",
    "    \n",
    "print(modelsize, modelsize/1e3)"
   ]
  },
  {
   "cell_type": "code",
   "execution_count": 22,
   "metadata": {},
   "outputs": [
    {
     "name": "stdout",
     "output_type": "stream",
     "text": [
      "FLOPs: 140.439266\n",
      "Model size: 20778 20.778\n"
     ]
    }
   ],
   "source": [
    "input_list = [[3,32,32], [3,32,32] , [42,14,14], [254,5,5]]\n",
    "kernel_list = [[3,1,1],  [42, 5, 5], [254, 5,5], [535, 5,5]]\n",
    "\n",
    "res = 0\n",
    "for input, kernel in zip(input_list, kernel_list):\n",
    "    \n",
    "    res += calFLOPs(input, kernel)\n",
    "    \n",
    "print(\"FLOPs:\", res/ 1e6)\n",
    "\n",
    "modelsize = 0\n",
    "\n",
    "for kernel in kernel_list:\n",
    "    \n",
    "    modelsize  += calmodelsize(kernel)\n",
    "    \n",
    "print(\"Model size:\", modelsize, modelsize/1e3)"
   ]
  },
  {
   "cell_type": "code",
   "execution_count": 21,
   "metadata": {},
   "outputs": [
    {
     "data": {
      "text/plain": [
       "157.552"
      ]
     },
     "execution_count": 21,
     "metadata": {},
     "output_type": "execute_result"
    }
   ],
   "source": [
    "0.372 * 46 + 140.44"
   ]
  },
  {
   "cell_type": "code",
   "execution_count": 28,
   "metadata": {},
   "outputs": [
    {
     "name": "stdout",
     "output_type": "stream",
     "text": [
      "242.3979\n",
      "Model size: 27663 27.663\n"
     ]
    }
   ],
   "source": [
    "d1 = 85\n",
    "input_list = [[3,30,30] , [d1 ,28,28], [d1 ,26, 26], [d1 ,24, 24], [d1 ,22, 22], [d1 ,20, 20],\\\n",
    "                [d1 ,18, 18], [d1, 16, 16], [d1 ,14, 14]]\n",
    "kernel_list = [[d1 , 3, 3] ] * 9\n",
    "\n",
    "res = 0\n",
    "for input, kernel in zip(input_list, kernel_list):\n",
    "    \n",
    "    res += calFLOPs(input, kernel)\n",
    "    \n",
    "print(res/ 1e6)\n",
    "\n",
    "for kernel in kernel_list:\n",
    "    \n",
    "    modelsize  += calmodelsize(kernel)\n",
    "    \n",
    "print(\"Model size:\", modelsize, modelsize/1e3)"
   ]
  },
  {
   "cell_type": "code",
   "execution_count": 29,
   "metadata": {},
   "outputs": [
    {
     "data": {
      "text/plain": [
       "45.519000000000005"
      ]
     },
     "execution_count": 29,
     "metadata": {},
     "output_type": "execute_result"
    }
   ],
   "source": [
    "27.663 + 0.372 * 48"
   ]
  },
  {
   "cell_type": "code",
   "execution_count": null,
   "metadata": {},
   "outputs": [],
   "source": []
  }
 ],
 "metadata": {
  "kernelspec": {
   "display_name": "Python 3",
   "language": "python",
   "name": "python3"
  },
  "language_info": {
   "codemirror_mode": {
    "name": "ipython",
    "version": 3
   },
   "file_extension": ".py",
   "mimetype": "text/x-python",
   "name": "python",
   "nbconvert_exporter": "python",
   "pygments_lexer": "ipython3",
   "version": "3.8.10"
  },
  "orig_nbformat": 4,
  "vscode": {
   "interpreter": {
    "hash": "31f2aee4e71d21fbe5cf8b01ff0e069b9275f58929596ceb00d14d90e3e16cd6"
   }
  }
 },
 "nbformat": 4,
 "nbformat_minor": 2
}
