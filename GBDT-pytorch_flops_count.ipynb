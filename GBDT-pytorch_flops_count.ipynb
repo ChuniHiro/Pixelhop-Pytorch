{
 "cells": [
  {
   "cell_type": "code",
   "execution_count": 3,
   "metadata": {},
   "outputs": [
    {
     "name": "stdout",
     "output_type": "stream",
     "text": [
      "True\n",
      "1\n",
      "1.13.0\n",
      "/media/hongyu/SSD/SSDUBUNTU/WUSL/Pixelhop-Pytorch\n"
     ]
    }
   ],
   "source": [
    "import numpy as np\n",
    "from tensorflow.keras.datasets import cifar10\n",
    "from skimage.util import view_as_windows\n",
    "\n",
    "from framework.pixelhop import *\n",
    "from framework.utils import *\n",
    "\n",
    "from skimage.measure import block_reduce\n",
    "import xgboost as xgb\n",
    "import warnings, gc\n",
    "import time\n",
    "import matplotlib.pyplot as plt\n",
    "\n",
    "from tqdm import tqdm\n",
    "\n",
    "import numpy as np\n",
    "import pandas as pd\n",
    "\n",
    "import torch\n",
    "import torch.nn as nn\n",
    "from torch.utils.data import Dataset, DataLoader\n",
    "from torch.utils.data.sampler import SubsetRandomSampler\n",
    "import torch.nn.functional as F\n",
    "\n",
    "print(torch.cuda.is_available())\n",
    "print(torch.cuda.device_count())\n",
    "print(torch.__version__)\n",
    "\n",
    "import os\n",
    "print(os.getcwd())\n",
    "\n",
    "from framework.dftloss import *\n",
    "\n",
    "from sklearn.metrics import accuracy_score, confusion_matrix, plot_confusion_matrix\n",
    "import pandas as pd\n",
    "import seaborn as sn\n",
    "\n",
    "from xgboost import XGBClassifier"
   ]
  },
  {
   "cell_type": "code",
   "execution_count": 4,
   "metadata": {},
   "outputs": [
    {
     "name": "stdout",
     "output_type": "stream",
     "text": [
      "training with input: (50000, 32, 32, 3)\n",
      "(50000, 32, 32, 3)\n",
      "(100000, 32, 32, 3)\n"
     ]
    }
   ],
   "source": [
    "# ---------- Load MNIST data and split ----------\n",
    "(x_train, y_train), (x_test,y_test) = cifar10.load_data()\n",
    "# -----------Data Preprocessing-----------\n",
    "x_train = np.asarray(x_train,dtype='float32')\n",
    "x_test = np.asarray(x_test,dtype='float32')\n",
    "y_train = np.asarray(y_train,dtype='int')\n",
    "y_test = np.asarray(y_test,dtype='int')\n",
    "print(\"training with input:\", x_train.shape)\n",
    "\n",
    "# brutal force flip augmentation of trianing data:\n",
    "Xtrain = []\n",
    "for img in x_train:\n",
    "    \n",
    "    imgflip = cv2.flip(img,1)\n",
    "    Xtrain.append(imgflip)\n",
    "    \n",
    "Xtrain = np.array(Xtrain)\n",
    "print(Xtrain.shape)\n",
    "\n",
    "Xtrain = np.concatenate((Xtrain,x_train),axis=0)\n",
    "print(Xtrain.shape)\n",
    "\n",
    "Ytrain = np.concatenate((y_train,y_train),axis=0)"
   ]
  },
  {
   "cell_type": "code",
   "execution_count": 2,
   "metadata": {},
   "outputs": [
    {
     "name": "stdout",
     "output_type": "stream",
     "text": [
      "model loaded at  ./model/model_d=535.pkl\n"
     ]
    }
   ],
   "source": [
    "module_filename = './model/model_d=535.pkl'\n",
    "mymodel = pickle.load(open(module_filename ,'rb'))\n",
    "print(\"model loaded at \", module_filename)"
   ]
  },
  {
   "cell_type": "code",
   "execution_count": null,
   "metadata": {},
   "outputs": [],
   "source": [
    "t0 = time.time()\n",
    "\n",
    "feattrain = mymodel.transform(Xtrain)[-3] #hop -1\n",
    "# feattrain = mymodel.transform(Xtrain)[-2] # hop -2 5x5\n",
    "feattrain = feattrain.reshape(feattrain.shape[0],-1)\n",
    "print(feattrain.shape, Ytrain.shape)\n",
    "\n",
    "feattest = mymodel.transform(x_test)[-3]  #hop -1\n",
    "# feattest = mymodel.transform(x_test)[-2] # hop -2 5x5\n",
    "feattest = feattest.reshape(feattest.shape[0],-1)\n",
    "print(feattest.shape, y_test.shape)\n",
    "\n",
    "print(\"extraction time:\", time.time() - t0)"
   ]
  },
  {
   "cell_type": "code",
   "execution_count": 5,
   "metadata": {},
   "outputs": [
    {
     "name": "stdout",
     "output_type": "stream",
     "text": [
      "(100000, 535)\n",
      "(10000, 535)\n"
     ]
    }
   ],
   "source": [
    "feature_filename = './model/feat_train+test_d=535.pkl'\n",
    "feat_load = pickle.load(open(feature_filename ,'rb'))\n",
    "feattrain, feattest = feat_load\n",
    "\n",
    "print(feattrain.shape)\n",
    "print(feattest.shape)"
   ]
  },
  {
   "cell_type": "code",
   "execution_count": 6,
   "metadata": {},
   "outputs": [
    {
     "name": "stderr",
     "output_type": "stream",
     "text": [
      "/home/hongyu/anaconda3/envs/saab/lib/python3.8/site-packages/sklearn/preprocessing/_label.py:98: DataConversionWarning: A column-vector y was passed when a 1d array was expected. Please change the shape of y to (n_samples, ), for example using ravel().\n",
      "  y = column_or_1d(y, warn=True)\n",
      "/home/hongyu/anaconda3/envs/saab/lib/python3.8/site-packages/sklearn/preprocessing/_label.py:133: DataConversionWarning: A column-vector y was passed when a 1d array was expected. Please change the shape of y to (n_samples, ), for example using ravel().\n",
      "  y = column_or_1d(y, warn=True)\n"
     ]
    }
   ],
   "source": [
    "\n",
    "\n",
    "# xgb_clf = xgb.XGBClassifier(objective='multi:softmax', \n",
    "#                             num_class=3, \n",
    "#                             missing=1, \n",
    "#                             early_stopping_rounds=10, \n",
    "xgb_model = XGBClassifier(n_estimators = 2000, \\\n",
    "                            learning_rate=0.2,\\\n",
    "                            max_depth=5,\\\n",
    "                            num_class=10,\\\n",
    "                            objective='multi:softmax', \\\n",
    "                            tree_method='gpu_hist', \\\n",
    "                            gpu_id=0).fit(feattrain, Ytrain)"
   ]
  },
  {
   "cell_type": "code",
   "execution_count": 11,
   "metadata": {},
   "outputs": [
    {
     "name": "stdout",
     "output_type": "stream",
     "text": [
      "(10000,)\n",
      "Test Accuary: 71.56%\n"
     ]
    },
    {
     "data": {
      "image/png": "[encoded data removed]",
      "text/plain": [
       "<Figure size 640x480 with 2 Axes>"
      ]
     },
     "metadata": {},
     "output_type": "display_data"
    }
   ],
   "source": [
    "t0 = time.time()\n",
    "y_test_preds = []\n",
    "y_test_preds = xgb_model.predict(feattest)\n",
    "print(y_test_preds.shape)\n",
    "\n",
    "\n",
    "pred_accuracy_score = accuracy_score(y_test, y_test_preds)\n",
    "# pred_recall_score = recall_score(y_test, y_test_pred, average='macro')\n",
    "print(\"Test Accuary: %.2f%%\" % (pred_accuracy_score* 100.0))\n",
    "# print('inference time:', time.time() - t0)\n",
    "\n",
    "cnf_matrix = confusion_matrix(y_test, y_test_preds)\n",
    "df_cm = pd.DataFrame(cnf_matrix)\n",
    "sn.heatmap(df_cm)\n",
    "plt.show()"
   ]
  },
  {
   "cell_type": "code",
   "execution_count": 1,
   "metadata": {},
   "outputs": [],
   "source": [
    "import pickle\n",
    "xgb_dir = './model/xgb_hop3.pkl'\n",
    "\n",
    "# pickle.dump(xgb_model ,open(xgb_dir ,'wb'))\n",
    "xgb_model = pickle.load(open(xgb_dir ,'rb'))"
   ]
  },
  {
   "cell_type": "code",
   "execution_count": 31,
   "metadata": {},
   "outputs": [],
   "source": [
    "from hummingbird.ml import convert, load\n",
    "\n",
    "input = np.random.rand(10, 535)\n",
    "# pytorch_model = convert(xgb_model, 'pytorch', input)\n",
    "pytorch_model = convert(xgb_model, 'pytorch', input, device='cuda')\n"
   ]
  },
  {
   "cell_type": "code",
   "execution_count": 32,
   "metadata": {},
   "outputs": [
    {
     "name": "stdout",
     "output_type": "stream",
     "text": [
      "<bound method Module.parameters of Executor(\n",
      "  (_operators): ModuleList(\n",
      "    (0): PerfectTreeTraversalGBDTImpl(\n",
      "      (nodes): ParameterList(\n",
      "          (0): Parameter containing: [torch.int64 of size 40000 (GPU 0)]\n",
      "          (1): Parameter containing: [torch.int64 of size 80000 (GPU 0)]\n",
      "          (2): Parameter containing: [torch.int64 of size 160000 (GPU 0)]\n",
      "          (3): Parameter containing: [torch.int64 of size 320000 (GPU 0)]\n",
      "      )\n",
      "      (biases): ParameterList(\n",
      "          (0): Parameter containing: [torch.float32 of size 40000 (GPU 0)]\n",
      "          (1): Parameter containing: [torch.float32 of size 80000 (GPU 0)]\n",
      "          (2): Parameter containing: [torch.float32 of size 160000 (GPU 0)]\n",
      "          (3): Parameter containing: [torch.float32 of size 320000 (GPU 0)]\n",
      "      )\n",
      "    )\n",
      "  )\n",
      ")>\n"
     ]
    }
   ],
   "source": [
    "xgb_pytorch = pytorch_model\n",
    "print(xgb_pytorch.model.parameters)"
   ]
  },
  {
   "cell_type": "code",
   "execution_count": 33,
   "metadata": {},
   "outputs": [
    {
     "name": "stdout",
     "output_type": "stream",
     "text": [
      "<class 'hummingbird.ml._executor.Executor'>\n",
      "Executor\n"
     ]
    }
   ],
   "source": [
    "from hummingbird.ml._executor import Executor\n",
    "print(xgb_pytorch.model.__class__)\n",
    "print(xgb_pytorch.model.__class__.__name__)"
   ]
  },
  {
   "cell_type": "code",
   "execution_count": 36,
   "metadata": {},
   "outputs": [],
   "source": [
    "torch.cuda.empty_cache()"
   ]
  },
  {
   "cell_type": "code",
   "execution_count": 35,
   "metadata": {},
   "outputs": [
    {
     "ename": "OutOfMemoryError",
     "evalue": "CUDA out of memory. Tried to allocate 1.49 GiB (GPU 0; 7.77 GiB total capacity; 5.45 GiB already allocated; 831.50 MiB free; 5.47 GiB reserved in total by PyTorch) If reserved memory is >> allocated memory try setting max_split_size_mb to avoid fragmentation.  See documentation for Memory Management and PYTORCH_CUDA_ALLOC_CONF",
     "output_type": "error",
     "traceback": [
      "\u001b[0;31m---------------------------------------------------------------------------\u001b[0m",
      "\u001b[0;31mOutOfMemoryError\u001b[0m                          Traceback (most recent call last)",
      "\u001b[1;32m/media/hongyu/SSD/SSDUBUNTU/WUSL/Pixelhop-Pytorch/GBDT-pytorch_flops_count.ipynb Cell 11\u001b[0m in \u001b[0;36m<cell line: 4>\u001b[0;34m()\u001b[0m\n\u001b[1;32m      <a href='vscode-notebook-cell:/media/hongyu/SSD/SSDUBUNTU/WUSL/Pixelhop-Pytorch/GBDT-pytorch_flops_count.ipynb#X11sZmlsZQ%3D%3D?line=1'>2</a>\u001b[0m feattest_cuda \u001b[39m=\u001b[39m feattest_cuda\u001b[39m.\u001b[39mto(\u001b[39m'\u001b[39m\u001b[39mcuda\u001b[39m\u001b[39m'\u001b[39m)\n\u001b[1;32m      <a href='vscode-notebook-cell:/media/hongyu/SSD/SSDUBUNTU/WUSL/Pixelhop-Pytorch/GBDT-pytorch_flops_count.ipynb#X11sZmlsZQ%3D%3D?line=2'>3</a>\u001b[0m \u001b[39m# verify the converted model:\u001b[39;00m\n\u001b[0;32m----> <a href='vscode-notebook-cell:/media/hongyu/SSD/SSDUBUNTU/WUSL/Pixelhop-Pytorch/GBDT-pytorch_flops_count.ipynb#X11sZmlsZQ%3D%3D?line=3'>4</a>\u001b[0m y_test_preds \u001b[39m=\u001b[39m xgb_pytorch\u001b[39m.\u001b[39;49mpredict(feattest)\n\u001b[1;32m      <a href='vscode-notebook-cell:/media/hongyu/SSD/SSDUBUNTU/WUSL/Pixelhop-Pytorch/GBDT-pytorch_flops_count.ipynb#X11sZmlsZQ%3D%3D?line=4'>5</a>\u001b[0m \u001b[39mprint\u001b[39m(y_test_preds\u001b[39m.\u001b[39mshape)\n\u001b[1;32m      <a href='vscode-notebook-cell:/media/hongyu/SSD/SSDUBUNTU/WUSL/Pixelhop-Pytorch/GBDT-pytorch_flops_count.ipynb#X11sZmlsZQ%3D%3D?line=5'>6</a>\u001b[0m pred_accuracy_score \u001b[39m=\u001b[39m accuracy_score(y_test, y_test_preds)\n",
      "File \u001b[0;32m~/anaconda3/envs/saab/lib/python3.8/site-packages/hummingbird/ml/containers/_sklearn_api_containers.py:119\u001b[0m, in \u001b[0;36mSklearnContainerRegression.predict\u001b[0;34m(self, *inputs)\u001b[0m\n\u001b[1;32m    112\u001b[0m \u001b[39mdef\u001b[39;00m \u001b[39mpredict\u001b[39m(\u001b[39mself\u001b[39m, \u001b[39m*\u001b[39minputs):\n\u001b[1;32m    113\u001b[0m     \u001b[39m\"\"\"\u001b[39;00m\n\u001b[1;32m    114\u001b[0m \u001b[39m    Utility functions used to emulate the behavior of the Sklearn API.\u001b[39;00m\n\u001b[1;32m    115\u001b[0m \u001b[39m    On regression returns the predicted values.\u001b[39;00m\n\u001b[1;32m    116\u001b[0m \u001b[39m    On classification tasks returns the predicted class labels for the input data.\u001b[39;00m\n\u001b[1;32m    117\u001b[0m \u001b[39m    On anomaly detection (e.g. isolation forest) returns the predicted classes (-1 or 1).\u001b[39;00m\n\u001b[1;32m    118\u001b[0m \u001b[39m    \"\"\"\u001b[39;00m\n\u001b[0;32m--> 119\u001b[0m     \u001b[39mreturn\u001b[39;00m \u001b[39mself\u001b[39;49m\u001b[39m.\u001b[39;49m_run(\u001b[39mself\u001b[39;49m\u001b[39m.\u001b[39;49m_predict, \u001b[39m*\u001b[39;49minputs)\n",
      "File \u001b[0;32m~/anaconda3/envs/saab/lib/python3.8/site-packages/hummingbird/ml/containers/_sklearn_api_containers.py:67\u001b[0m, in \u001b[0;36mSklearnContainer._run\u001b[0;34m(self, function, *inputs)\u001b[0m\n\u001b[1;32m     64\u001b[0m         splits \u001b[39m=\u001b[39m [inputs[input_names[idx]] \u001b[39mfor\u001b[39;00m idx \u001b[39min\u001b[39;00m \u001b[39mrange\u001b[39m(\u001b[39mlen\u001b[39m(input_names))]\n\u001b[1;32m     65\u001b[0m         inputs \u001b[39m=\u001b[39m [df\u001b[39m.\u001b[39mto_numpy()\u001b[39m.\u001b[39mreshape(\u001b[39m-\u001b[39m\u001b[39m1\u001b[39m, \u001b[39m1\u001b[39m) \u001b[39mfor\u001b[39;00m df \u001b[39min\u001b[39;00m splits]\n\u001b[0;32m---> 67\u001b[0m \u001b[39mreturn\u001b[39;00m function(\u001b[39m*\u001b[39;49minputs)\n",
      "File \u001b[0;32m~/anaconda3/envs/saab/lib/python3.8/site-packages/hummingbird/ml/containers/sklearn/pytorch_containers.py:196\u001b[0m, in \u001b[0;36mPyTorchSklearnContainerRegression._predict\u001b[0;34m(self, *inputs)\u001b[0m\n\u001b[1;32m    194\u001b[0m     \u001b[39mreturn\u001b[39;00m \u001b[39mself\u001b[39m\u001b[39m.\u001b[39mmodel\u001b[39m.\u001b[39mforward(\u001b[39m*\u001b[39minputs)[\u001b[39m0\u001b[39m]\u001b[39m.\u001b[39mcpu()\u001b[39m.\u001b[39mnumpy()\u001b[39m.\u001b[39mravel()\n\u001b[1;32m    195\u001b[0m \u001b[39melse\u001b[39;00m:\n\u001b[0;32m--> 196\u001b[0m     \u001b[39mreturn\u001b[39;00m \u001b[39mself\u001b[39;49m\u001b[39m.\u001b[39;49mmodel\u001b[39m.\u001b[39;49mforward(\u001b[39m*\u001b[39;49minputs)[\u001b[39m0\u001b[39m]\u001b[39m.\u001b[39mcpu()\u001b[39m.\u001b[39mnumpy()\u001b[39m.\u001b[39mravel()\n",
      "File \u001b[0;32m~/anaconda3/envs/saab/lib/python3.8/site-packages/hummingbird/ml/_executor.py:115\u001b[0m, in \u001b[0;36mExecutor.forward\u001b[0;34m(self, *inputs)\u001b[0m\n\u001b[1;32m    113\u001b[0m \u001b[39m# Evaluate all the operators in the topology by properly wiring inputs \\ outputs\u001b[39;00m\n\u001b[1;32m    114\u001b[0m \u001b[39mfor\u001b[39;00m operator \u001b[39min\u001b[39;00m \u001b[39mself\u001b[39m\u001b[39m.\u001b[39m_operators:\n\u001b[0;32m--> 115\u001b[0m     outputs \u001b[39m=\u001b[39m operator(\u001b[39m*\u001b[39;49m(variable_map[input_name] \u001b[39mfor\u001b[39;49;00m input_name \u001b[39min\u001b[39;49;00m operator\u001b[39m.\u001b[39;49minputs))\n\u001b[1;32m    117\u001b[0m     \u001b[39mif\u001b[39;00m \u001b[39mlen\u001b[39m(operator\u001b[39m.\u001b[39moutputs) \u001b[39m==\u001b[39m \u001b[39m1\u001b[39m:\n\u001b[1;32m    118\u001b[0m         variable_map[operator\u001b[39m.\u001b[39moutputs[\u001b[39m0\u001b[39m]] \u001b[39m=\u001b[39m outputs\n",
      "File \u001b[0;32m~/anaconda3/envs/saab/lib/python3.8/site-packages/torch/nn/modules/module.py:1190\u001b[0m, in \u001b[0;36mModule._call_impl\u001b[0;34m(self, *input, **kwargs)\u001b[0m\n\u001b[1;32m   1186\u001b[0m \u001b[39m# If we don't have any hooks, we want to skip the rest of the logic in\u001b[39;00m\n\u001b[1;32m   1187\u001b[0m \u001b[39m# this function, and just call forward.\u001b[39;00m\n\u001b[1;32m   1188\u001b[0m \u001b[39mif\u001b[39;00m \u001b[39mnot\u001b[39;00m (\u001b[39mself\u001b[39m\u001b[39m.\u001b[39m_backward_hooks \u001b[39mor\u001b[39;00m \u001b[39mself\u001b[39m\u001b[39m.\u001b[39m_forward_hooks \u001b[39mor\u001b[39;00m \u001b[39mself\u001b[39m\u001b[39m.\u001b[39m_forward_pre_hooks \u001b[39mor\u001b[39;00m _global_backward_hooks\n\u001b[1;32m   1189\u001b[0m         \u001b[39mor\u001b[39;00m _global_forward_hooks \u001b[39mor\u001b[39;00m _global_forward_pre_hooks):\n\u001b[0;32m-> 1190\u001b[0m     \u001b[39mreturn\u001b[39;00m forward_call(\u001b[39m*\u001b[39;49m\u001b[39minput\u001b[39;49m, \u001b[39m*\u001b[39;49m\u001b[39m*\u001b[39;49mkwargs)\n\u001b[1;32m   1191\u001b[0m \u001b[39m# Do not call functions when jit is used\u001b[39;00m\n\u001b[1;32m   1192\u001b[0m full_backward_hooks, non_full_backward_hooks \u001b[39m=\u001b[39m [], []\n",
      "File \u001b[0;32m~/anaconda3/envs/saab/lib/python3.8/site-packages/hummingbird/ml/operator_converters/_tree_implementations.py:394\u001b[0m, in \u001b[0;36mPerfectTreeTraversalTreeImpl.forward\u001b[0;34m(self, x)\u001b[0m\n\u001b[1;32m    391\u001b[0m     gather_indices \u001b[39m=\u001b[39m torch\u001b[39m.\u001b[39mindex_select(nodes, \u001b[39m0\u001b[39m, prev_indices)\u001b[39m.\u001b[39mview(\u001b[39m-\u001b[39m\u001b[39m1\u001b[39m, \u001b[39mself\u001b[39m\u001b[39m.\u001b[39mnum_trees)\n\u001b[1;32m    392\u001b[0m     features \u001b[39m=\u001b[39m torch\u001b[39m.\u001b[39mgather(x, \u001b[39m1\u001b[39m, gather_indices)\u001b[39m.\u001b[39mview(\u001b[39m-\u001b[39m\u001b[39m1\u001b[39m)\n\u001b[1;32m    393\u001b[0m     prev_indices \u001b[39m=\u001b[39m (\n\u001b[0;32m--> 394\u001b[0m         factor \u001b[39m*\u001b[39m prev_indices \u001b[39m+\u001b[39m \u001b[39mself\u001b[39;49m\u001b[39m.\u001b[39;49mdecision_cond(features, torch\u001b[39m.\u001b[39;49mindex_select(biases, \u001b[39m0\u001b[39;49m, prev_indices))\u001b[39m.\u001b[39;49mlong()\n\u001b[1;32m    395\u001b[0m     )\n\u001b[1;32m    397\u001b[0m output \u001b[39m=\u001b[39m torch\u001b[39m.\u001b[39mindex_select(\u001b[39mself\u001b[39m\u001b[39m.\u001b[39mleaf_nodes, \u001b[39m0\u001b[39m, prev_indices)\u001b[39m.\u001b[39mview(\u001b[39m-\u001b[39m\u001b[39m1\u001b[39m, \u001b[39mself\u001b[39m\u001b[39m.\u001b[39mnum_trees, \u001b[39mself\u001b[39m\u001b[39m.\u001b[39mn_classes)\n\u001b[1;32m    399\u001b[0m output \u001b[39m=\u001b[39m \u001b[39mself\u001b[39m\u001b[39m.\u001b[39maggregation(output)\n",
      "\u001b[0;31mOutOfMemoryError\u001b[0m: CUDA out of memory. Tried to allocate 1.49 GiB (GPU 0; 7.77 GiB total capacity; 5.45 GiB already allocated; 831.50 MiB free; 5.47 GiB reserved in total by PyTorch) If reserved memory is >> allocated memory try setting max_split_size_mb to avoid fragmentation.  See documentation for Memory Management and PYTORCH_CUDA_ALLOC_CONF"
     ]
    }
   ],
   "source": [
    "feattest_cuda = torch.FloatTensor(feattest)\n",
    "feattest_cuda = feattest_cuda.to('cuda')\n",
    "# verify the converted model:\n",
    "y_test_preds = xgb_pytorch.predict(feattest)\n",
    "print(y_test_preds.shape)\n",
    "pred_accuracy_score = accuracy_score(y_test, y_test_preds)\n",
    "# pred_recall_score = recall_score(y_test, y_test_pred, average='macro')\n",
    "print(\"Test Accuary: %.2f%%\" % (pred_accuracy_score* 100.0))\n"
   ]
  },
  {
   "cell_type": "code",
   "execution_count": 13,
   "metadata": {},
   "outputs": [],
   "source": [
    "import pickle\n",
    "xgbpytorch_dir = './model/xgb_pytorch.pkl'\n",
    "\n",
    "pickle.dump(xgb_pytorch,open(xgbpytorch_dir ,'wb'))\n",
    "# xgb_pytorch.save(\"xgb_pytorch\")"
   ]
  },
  {
   "cell_type": "code",
   "execution_count": 80,
   "metadata": {},
   "outputs": [
    {
     "name": "stdout",
     "output_type": "stream",
     "text": [
      "\n",
      "-------------------------- DeepSpeed Flops Profiler --------------------------\n",
      "Profile Summary at step 1:\n",
      "Notations:\n",
      "data parallel size (dp_size), model parallel size(mp_size),\n",
      "number of parameters (params), number of multiply-accumulate operations(MACs),\n",
      "number of floating-point operations (flops), floating-point operations per second (FLOPS),\n",
      "fwd latency (forward propagation latency), bwd latency (backward propagation latency),\n",
      "step (weights update latency), iter latency (sum of fwd, bwd and step latency)\n",
      "\n",
      "params per gpu:                                               1.9 M   \n",
      "params of model = params per GPU * mp_size:                   1.9 M   \n",
      "fwd MACs per GPU:                                             0 MACs  \n",
      "fwd flops per GPU:                                            0       \n",
      "fwd flops of model = fwd flops per GPU * mp_size:             0       \n",
      "fwd latency:                                                  779.39 us\n",
      "fwd FLOPS per GPU = fwd flops per GPU / fwd latency:          0.0 FLOPS\n",
      "\n",
      "----------------------------- Aggregated Profile per GPU -----------------------------\n",
      "Top 1 modules in terms of params, MACs or fwd latency at different model depths:\n",
      "depth 0:\n",
      "    params      - {'Executor': '1.9 M'}\n",
      "    MACs        - {'Executor': '0 MACs'}\n",
      "    fwd latency - {'Executor': '779.39 us'}\n",
      "depth 1:\n",
      "    params      - {'ModuleList': '1.9 M'}\n",
      "    MACs        - {'ModuleList': '0 MACs'}\n",
      "    fwd latency - {'ModuleList': '643.73 us'}\n",
      "depth 2:\n",
      "    params      - {'PerfectTreeTraversalGBDTImpl': '1.9 M'}\n",
      "    MACs        - {'PerfectTreeTraversalGBDTImpl': '0 MACs'}\n",
      "    fwd latency - {'PerfectTreeTraversalGBDTImpl': '643.73 us'}\n",
      "\n",
      "------------------------------ Detailed Profile per GPU ------------------------------\n",
      "Each module profile is listed after its name in the following order: \n",
      "params, percentage of total params, MACs, percentage of total MACs, fwd latency, percentage of total fwd latency, fwd FLOPS\n",
      "\n",
      "Note: 1. A module can have torch.nn.module or torch.nn.functional to compute logits (e.g. CrossEntropyLoss). They are not counted as submodules, thus not to be printed out. However they make up the difference between a parent's MACs (or latency) and the sum of its submodules'.\n",
      "2. Number of floating-point operations is a theoretical estimation, thus FLOPS computed using that could be larger than the maximum system throughput.\n",
      "3. The fwd latency listed in the top module's profile is directly captured at the module forward function in PyTorch, thus it's less than the fwd latency shown above which is captured in DeepSpeed.\n",
      "\n",
      "Executor(\n",
      "  1.9 M, 100.00% Params, 0 MACs, 0.00% MACs, 779.39 us, 100.00% latency, 0.0 FLOPS, \n",
      "  (_operators): ModuleList(\n",
      "    1.9 M, 100.00% Params, 0 MACs, 0.00% MACs, 643.73 us, 82.59% latency, 0.0 FLOPS, \n",
      "    (0): PerfectTreeTraversalGBDTImpl(\n",
      "      1.9 M, 100.00% Params, 0 MACs, 0.00% MACs, 643.73 us, 82.59% latency, 0.0 FLOPS, \n",
      "      (nodes): ParameterList(\n",
      "        600.0 k, 31.58% Params, 0 MACs, 0.00% MACs, 0, 0.00% latency, 0.0 FLOPS,   (0): Parameter containing: [torch.int64 of size 40000 (GPU 0)]\n",
      "          (1): Parameter containing: [torch.int64 of size 80000 (GPU 0)]\n",
      "          (2): Parameter containing: [torch.int64 of size 160000 (GPU 0)]\n",
      "          (3): Parameter containing: [torch.int64 of size 320000 (GPU 0)]\n",
      "      )\n",
      "      (biases): ParameterList(\n",
      "        600.0 k, 31.58% Params, 0 MACs, 0.00% MACs, 0, 0.00% latency, 0.0 FLOPS,   (0): Parameter containing: [torch.float32 of size 40000 (GPU 0)]\n",
      "          (1): Parameter containing: [torch.float32 of size 80000 (GPU 0)]\n",
      "          (2): Parameter containing: [torch.float32 of size 160000 (GPU 0)]\n",
      "          (3): Parameter containing: [torch.float32 of size 320000 (GPU 0)]\n",
      "      )\n",
      "    )\n",
      "  )\n",
      ")\n",
      "------------------------------------------------------------------------------\n"
     ]
    }
   ],
   "source": [
    "# deepspeed.profiling.flops_profiler.profiler.get_model_profile(model, \\\n",
    "    # input_shape=None, args=[], kwargs={}, print_profile=True, detailed=True,\\\n",
    "        # module_depth=-1, top_modules=1, warm_up=1, as_string=True, output_file=None, ignore_modules=None)\n",
    "from deepspeed.profiling.flops_profiler.profiler import get_model_profile\n",
    "\n",
    "batch_size = 1\n",
    "flops, macs, params = get_model_profile(model=pytorch_model.model, input_shape=(batch_size, 535))"
   ]
  },
  {
   "cell_type": "code",
   "execution_count": 81,
   "metadata": {},
   "outputs": [
    {
     "name": "stdout",
     "output_type": "stream",
     "text": [
      "(tensor([6], device='cuda:0'), tensor([[7.3612e-02, 4.2954e-05, 1.8645e-03, 6.2914e-02, 6.5400e-03, 3.0134e-04,\n",
      "         8.1835e-01, 3.0043e-05, 3.6346e-02, 1.9313e-06]], device='cuda:0'))\n"
     ]
    }
   ],
   "source": [
    "\n",
    "from pthflops import count_ops\n",
    "\n",
    "# Create a network and a corresponding input\n",
    "device = 'cuda:0'\n",
    "model = pytorch_model.model\n",
    "inp = torch.rand(1,535).to(device)\n",
    "\n",
    "test = model(inp)\n",
    "print(test)"
   ]
  },
  {
   "cell_type": "code",
   "execution_count": 76,
   "metadata": {},
   "outputs": [
    {
     "name": "stdout",
     "output_type": "stream",
     "text": [
      "\n",
      "-------------------------- DeepSpeed Flops Profiler --------------------------\n",
      "Profile Summary at step 1:\n",
      "Notations:\n",
      "data parallel size (dp_size), model parallel size(mp_size),\n",
      "number of parameters (params), number of multiply-accumulate operations(MACs),\n",
      "number of floating-point operations (flops), floating-point operations per second (FLOPS),\n",
      "fwd latency (forward propagation latency), bwd latency (backward propagation latency),\n",
      "step (weights update latency), iter latency (sum of fwd, bwd and step latency)\n",
      "\n",
      "params per gpu:                                               1.9 M   \n",
      "params of model = params per GPU * mp_size:                   1.9 M   \n",
      "fwd MACs per GPU:                                             0 MACs  \n",
      "fwd flops per GPU:                                            0       \n",
      "fwd flops of model = fwd flops per GPU * mp_size:             0       \n",
      "fwd latency:                                                  972.99 us\n",
      "fwd FLOPS per GPU = fwd flops per GPU / fwd latency:          0.0 FLOPS\n",
      "\n",
      "----------------------------- Aggregated Profile per GPU -----------------------------\n",
      "Top 1 modules in terms of params, MACs or fwd latency at different model depths:\n",
      "depth 0:\n",
      "    params      - {'Executor': '1.9 M'}\n",
      "    MACs        - {'Executor': '0 MACs'}\n",
      "    fwd latency - {'Executor': '972.99 us'}\n",
      "depth 1:\n",
      "    params      - {'ModuleList': '1.9 M'}\n",
      "    MACs        - {'ModuleList': '0 MACs'}\n",
      "    fwd latency - {'ModuleList': '865.22 us'}\n",
      "depth 2:\n",
      "    params      - {'PerfectTreeTraversalGBDTImpl': '1.9 M'}\n",
      "    MACs        - {'PerfectTreeTraversalGBDTImpl': '0 MACs'}\n",
      "    fwd latency - {'PerfectTreeTraversalGBDTImpl': '865.22 us'}\n",
      "\n",
      "------------------------------ Detailed Profile per GPU ------------------------------\n",
      "Each module profile is listed after its name in the following order: \n",
      "params, percentage of total params, MACs, percentage of total MACs, fwd latency, percentage of total fwd latency, fwd FLOPS\n",
      "\n",
      "Note: 1. A module can have torch.nn.module or torch.nn.functional to compute logits (e.g. CrossEntropyLoss). They are not counted as submodules, thus not to be printed out. However they make up the difference between a parent's MACs (or latency) and the sum of its submodules'.\n",
      "2. Number of floating-point operations is a theoretical estimation, thus FLOPS computed using that could be larger than the maximum system throughput.\n",
      "3. The fwd latency listed in the top module's profile is directly captured at the module forward function in PyTorch, thus it's less than the fwd latency shown above which is captured in DeepSpeed.\n",
      "\n",
      "Executor(\n",
      "  1.9 M, 100.00% Params, 0 MACs, 0.00% MACs, 972.99 us, 100.00% latency, 0.0 FLOPS, \n",
      "  (_operators): ModuleList(\n",
      "    1.9 M, 100.00% Params, 0 MACs, 0.00% MACs, 865.22 us, 88.92% latency, 0.0 FLOPS, \n",
      "    (0): PerfectTreeTraversalGBDTImpl(\n",
      "      1.9 M, 100.00% Params, 0 MACs, 0.00% MACs, 865.22 us, 88.92% latency, 0.0 FLOPS, \n",
      "      (nodes): ParameterList(\n",
      "        600.0 k, 31.58% Params, 0 MACs, 0.00% MACs, 0, 0.00% latency, 0.0 FLOPS,   (0): Parameter containing: [torch.int64 of size 40000 (GPU 0)]\n",
      "          (1): Parameter containing: [torch.int64 of size 80000 (GPU 0)]\n",
      "          (2): Parameter containing: [torch.int64 of size 160000 (GPU 0)]\n",
      "          (3): Parameter containing: [torch.int64 of size 320000 (GPU 0)]\n",
      "      )\n",
      "      (biases): ParameterList(\n",
      "        600.0 k, 31.58% Params, 0 MACs, 0.00% MACs, 0, 0.00% latency, 0.0 FLOPS,   (0): Parameter containing: [torch.float32 of size 40000 (GPU 0)]\n",
      "          (1): Parameter containing: [torch.float32 of size 80000 (GPU 0)]\n",
      "          (2): Parameter containing: [torch.float32 of size 160000 (GPU 0)]\n",
      "          (3): Parameter containing: [torch.float32 of size 320000 (GPU 0)]\n",
      "      )\n",
      "    )\n",
      "  )\n",
      ")\n",
      "------------------------------------------------------------------------------\n"
     ]
    }
   ],
   "source": [
    "# deepspeed.profiling.flops_profiler.profiler.FlopsProfiler\n",
    "from deepspeed.profiling.flops_profiler.profiler import FlopsProfiler as FP\n",
    "\n",
    "model = pytorch_model.model\n",
    "prof = FP(model)\n",
    "device = 'cuda:0'\n",
    "inp = torch.rand(1,535).to(device)\n",
    "prof.start_profile()\n",
    "\n",
    "model(inp)\n",
    "\n",
    "flops = prof.get_total_flops(as_string=True)\n",
    "params = prof.get_total_params(as_string=True)\n",
    "prof.print_model_profile()\n",
    "prof.end_profile()\n"
   ]
  },
  {
   "cell_type": "code",
   "execution_count": 87,
   "metadata": {},
   "outputs": [
    {
     "name": "stdout",
     "output_type": "stream",
     "text": [
      "80.000K\n"
     ]
    },
    {
     "name": "stderr",
     "output_type": "stream",
     "text": [
      "/home/hongyu/anaconda3/envs/saab/lib/python3.8/site-packages/torchprofile/profile.py:22: UserWarning: No handlers found: \"aten::index_select\". Skipped.\n",
      "  warnings.warn('No handlers found: \"{}\". Skipped.'.format(\n",
      "/home/hongyu/anaconda3/envs/saab/lib/python3.8/site-packages/torchprofile/profile.py:22: UserWarning: No handlers found: \"aten::gather\". Skipped.\n",
      "  warnings.warn('No handlers found: \"{}\". Skipped.'.format(\n",
      "/home/hongyu/anaconda3/envs/saab/lib/python3.8/site-packages/torchprofile/profile.py:22: UserWarning: No handlers found: \"aten::argmax\". Skipped.\n",
      "  warnings.warn('No handlers found: \"{}\". Skipped.'.format(\n"
     ]
    }
   ],
   "source": [
    "from torchprofile import profile_macs\n",
    "\n",
    "model = pytorch_model.model\n",
    "inputs = torch.rand(1,535)\n",
    "macs = profile_macs(model, inputs)\n",
    "\n",
    "from thop import clever_format\n",
    "macs = clever_format([macs], \"%.3f\")\n",
    "print(macs)"
   ]
  }
 ],
 "metadata": {
  "kernelspec": {
   "display_name": "saab",
   "language": "python",
   "name": "python3"
  },
  "language_info": {
   "codemirror_mode": {
    "name": "ipython",
    "version": 3
   },
   "file_extension": ".py",
   "mimetype": "text/x-python",
   "name": "python",
   "nbconvert_exporter": "python",
   "pygments_lexer": "ipython3",
   "version": "3.8.13 (default, Oct 21 2022, 23:50:54) \n[GCC 11.2.0]"
  },
  "orig_nbformat": 4,
  "vscode": {
   "interpreter": {
    "hash": "492f2b1cb6759606e5afbb8e792dc4d3b5e25cf4624a4af2a660ba1797daa55d"
   }
  }
 },
 "nbformat": 4,
 "nbformat_minor": 2
}
