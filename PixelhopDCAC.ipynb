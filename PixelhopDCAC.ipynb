{
 "cells": [
  {
   "cell_type": "code",
   "execution_count": 1,
   "metadata": {},
   "outputs": [
    {
     "name": "stdout",
     "output_type": "stream",
     "text": [
      "True\n",
      "1\n",
      "1.13.0\n",
      "/media/hongyu/SSD/SSDUBUNTU/WUSL/Pixelhop-Pytorch\n",
      "training with input: (50000, 32, 32, 3)\n"
     ]
    }
   ],
   "source": [
    "import numpy as np\n",
    "from tensorflow.keras.datasets import cifar10\n",
    "from skimage.util import view_as_windows\n",
    "\n",
    "from framework.pixelhop import *\n",
    "from framework.utils import *\n",
    "\n",
    "from skimage.measure import block_reduce\n",
    "import xgboost as xgb\n",
    "import warnings, gc\n",
    "import time\n",
    "import matplotlib.pyplot as plt\n",
    "\n",
    "from tqdm import tqdm\n",
    "\n",
    "import numpy as np\n",
    "import pandas as pd\n",
    "\n",
    "import torch\n",
    "import torch.nn as nn\n",
    "from torch.utils.data import Dataset, DataLoader\n",
    "from torch.utils.data.sampler import SubsetRandomSampler\n",
    "import torch.nn.functional as F\n",
    "\n",
    "print(torch.cuda.is_available())\n",
    "print(torch.cuda.device_count())\n",
    "print(torch.__version__)\n",
    "\n",
    "import os\n",
    "print(os.getcwd())\n",
    "\n",
    "from framework.dftloss import *\n",
    "\n",
    "import lightgbm as lgb\n",
    "import math\n",
    "from sklearn.metrics import accuracy_score, confusion_matrix, plot_confusion_matrix\n",
    "import pandas as pd\n",
    "import seaborn as sn\n",
    "\n",
    "\n",
    "# ---------- Load MNIST data and split ----------\n",
    "(x_train, y_train), (x_test,y_test) = cifar10.load_data()\n",
    "# -----------Data Preprocessing-----------\n",
    "x_train = np.asarray(x_train,dtype='float32')\n",
    "x_test = np.asarray(x_test,dtype='float32')\n",
    "y_train = np.asarray(y_train,dtype='int')\n",
    "y_test = np.asarray(y_test,dtype='int')\n",
    "print(\"training with input:\", x_train.shape)\n"
   ]
  },
  {
   "cell_type": "code",
   "execution_count": 2,
   "metadata": {},
   "outputs": [],
   "source": [
    "SaabArgs = [\n",
    "            {'num_AC_kernels':-1, 'needBias':True, 'useDC':False, 'cw': False}, # PQR transform in this step\n",
    "            {'num_AC_kernels':-1, 'needBias':True, 'useDC':True, 'cw': True},\n",
    "            {'num_AC_kernels':-1, 'needBias':True, 'useDC':True, 'cw': True},\n",
    "            {'num_AC_kernels':-1, 'needBias':True, 'useDC':True, 'cw': True},\n",
    "            {'num_AC_kernels':-1, 'needBias':True, 'useDC':True, 'cw': True},\n",
    "            {'num_AC_kernels':-1, 'needBias':True, 'useDC':True, 'cw': True},\n",
    "            {'num_AC_kernels':-1, 'needBias':True, 'useDC':True, 'cw': True},\n",
    "            {'num_AC_kernels':-1, 'needBias':True, 'useDC':True, 'cw': True},\n",
    "            {'num_AC_kernels':-1, 'needBias':True, 'useDC':True, 'cw': True},\n",
    "            {'num_AC_kernels':-1, 'needBias':True, 'useDC':True, 'cw': True},\n",
    "            {'num_AC_kernels':-1, 'needBias':True, 'useDC':True, 'cw': True},\n",
    "            {'num_AC_kernels':-1, 'needBias':True, 'useDC':True, 'cw': True},\n",
    "            # {'num_AC_kernels':-1, 'needBias':True, 'useDC':True, 'cw': True},\n",
    "            {'num_AC_kernels':-1, 'needBias':True, 'useDC':True, 'cw': True}\n",
    "            ]\n",
    "\n",
    "shrinkArgs = [\n",
    "            # {'func':Shrink, 'win':1, 'pad':true/false, 'stride': 1},\n",
    "            {'func':NoShrink, 'win':1, 'pad':0, 'stride': 1, 'pooling':0},#PQR\n",
    "            {'func':Shrink, 'win':3, 'pad':0, 'stride': 1, 'pooling':1,'poolingParms' :(3,2,1)},#conv1\n",
    "            {'func':Shrink, 'win':3, 'pad':0, 'stride': 1, 'pooling':1,'poolingParms' :(3,2,1)},#conv2\n",
    "            {'func':Shrink, 'win':3, 'pad':0, 'stride': 1, 'pooling':1,'poolingParms' :(3,2,1)},#conv3\n",
    "            {'func':Shrink, 'win':3, 'pad':0, 'stride': 1, 'pooling':0,'poolingParms' :(3,2,1)},#conv4\n",
    "            # {'func':Shrink, 'win':5, 'pad':0, 'stride': 1, 'pooling':0},#conv3\n",
    "            ]\n",
    "\n",
    "concatArg = {'func':Concat}\n",
    "\n"
   ]
  },
  {
   "cell_type": "code",
   "execution_count": 5,
   "metadata": {},
   "outputs": [
    {
     "name": "stdout",
     "output_type": "stream",
     "text": [
      "       <WARNING> Too few 'SaabArgs/shrinkArgs' to get depth 6,             actual depth: 4\n",
      "=====>c/w Saab Train Hop 0\n",
      "PQR energy: [0.91086739 0.07377977 0.01535284]\n",
      "check energy: [0.91086739 0.07377977 0.01535284]\n",
      "FEATURE SHAPE in Hop0 [50000, 32, 32, 3]\n",
      "=============================================>c/w Saab Train Hop 1\n",
      "check input featmap: (50000, 32, 32, 3)\n",
      "in cwsaab_n_layer, current #Saab: 1\n",
      "check input X: (3, 50000, 32, 32)\n",
      "in channel 0 Energy: 3\n",
      "in cwsaab_layer_ 1\n",
      "output: (50000, 30, 30, 20)\n",
      "CHECK FEATURE SHAPE [50000, 15, 15, 20]\n",
      "=============================================>c/w Saab Train Hop 2\n",
      "check input featmap: (50000, 15, 15, 20)\n",
      "in cwsaab_n_layer, current #Saab: 2\n",
      "check input X: (20, 50000, 15, 15)\n",
      "in channel 0 Energy: 10\n",
      "in channel 1 Energy: 10\n",
      "in cwsaab_layer_ 2\n",
      "output: (50000, 13, 13, 40)\n",
      "CHECK FEATURE SHAPE [50000, 7, 7, 40]\n",
      "=============================================>c/w Saab Train Hop 3\n",
      "check input featmap: (50000, 7, 7, 40)\n",
      "in cwsaab_n_layer, current #Saab: 4\n",
      "check input X: (40, 50000, 7, 7)\n",
      "in channel 0 Energy: 10\n",
      "in channel 1 Energy: 10\n",
      "in channel 2 Energy: 10\n",
      "in channel 3 Energy: 10\n",
      "in cwsaab_layer_ 3\n",
      "output: (50000, 5, 5, 80)\n",
      "CHECK FEATURE SHAPE [50000, 3, 3, 80]\n",
      "75.52206659317017\n"
     ]
    }
   ],
   "source": [
    "threshold1 = 0.0001 # for splitting, th2 <= kernels <= th1 will be treated as leaf nodes\n",
    "threshold2 = 0.00005 # for feature selections, discard these kernels directly after each saab training\n",
    "depth = 6\n",
    "\n",
    "t1 = time.time()\n",
    "\n",
    "mymodel = Pixelhop(depth=depth, TH1=threshold1, TH2=threshold2, SaabArgs=SaabArgs, shrinkArgs=shrinkArgs, concatArg=concatArg, DCAC= True)\n",
    "mymodel.fit(x_train)\n",
    "print(time.time() - t1)"
   ]
  },
  {
   "cell_type": "code",
   "execution_count": 6,
   "metadata": {},
   "outputs": [
    {
     "name": "stdout",
     "output_type": "stream",
     "text": [
      "(1, 32, 32, 3)\n",
      "(1, 15, 15, 20)\n",
      "(1, 7, 7, 40)\n",
      "(1, 3, 3, 80)\n"
     ]
    }
   ],
   "source": [
    "test = x_train[:1]\n",
    "featmaps = mymodel.transform(test)\n",
    "for featmap in featmaps:\n",
    "    \n",
    "    print(featmap.shape)\n"
   ]
  },
  {
   "cell_type": "code",
   "execution_count": null,
   "metadata": {},
   "outputs": [],
   "source": []
  }
 ],
 "metadata": {
  "kernelspec": {
   "display_name": "saab",
   "language": "python",
   "name": "python3"
  },
  "language_info": {
   "codemirror_mode": {
    "name": "ipython",
    "version": 3
   },
   "file_extension": ".py",
   "mimetype": "text/x-python",
   "name": "python",
   "nbconvert_exporter": "python",
   "pygments_lexer": "ipython3",
   "version": "3.8.13"
  },
  "orig_nbformat": 4,
  "vscode": {
   "interpreter": {
    "hash": "492f2b1cb6759606e5afbb8e792dc4d3b5e25cf4624a4af2a660ba1797daa55d"
   }
  }
 },
 "nbformat": 4,
 "nbformat_minor": 2
}
