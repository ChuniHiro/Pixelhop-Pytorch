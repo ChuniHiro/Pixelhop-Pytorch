{
 "cells": [
  {
   "attachments": {},
   "cell_type": "markdown",
   "metadata": {},
   "source": [
    "# Pixelhop"
   ]
  },
  {
   "cell_type": "code",
   "execution_count": 43,
   "metadata": {},
   "outputs": [
    {
     "name": "stdout",
     "output_type": "stream",
     "text": [
      "channelwise, without pooling: 72900\n",
      "channelwise, with pooling: 97200\n",
      "FLOPs: 0.2916 M\n"
     ]
    }
   ],
   "source": [
    "def FLOPs_SSL(input, kernel, stride = 1, maxpooling = False, cw = True, output_dim = -1):\n",
    "    \n",
    "    # input [channel ,H, W]\n",
    "    # kernel [#parentnode, size, size]\n",
    "    # #parentnode is the selected channel from previous channel\n",
    "    # #parentnode <= channel\n",
    "    if cw == False:\n",
    "        res = 1\n",
    "        for x in input:\n",
    "\n",
    "            res *= x\n",
    "            \n",
    "        for x in kernel:\n",
    "\n",
    "            res *= x\n",
    "        return  res\n",
    "    \n",
    "    channel, H, _ = input\n",
    "    parent_nodes, filter_size, _ = kernel\n",
    "    # neighborhood construction:\n",
    "    H = H - filter_size + 1\n",
    "    # for each channel:\n",
    "    cwFLOP = H ** 2 * (filter_size ** 2) ** 2 \n",
    "    FLOPs = cwFLOP * parent_nodes\n",
    "    print('channelwise, without pooling:', cwFLOP)\n",
    "    if maxpooling:\n",
    "        \n",
    "        if output_dim == -1:\n",
    "            \n",
    "            output_dim = filter_size ** 2 * channel\n",
    "            \n",
    "        cwFLOP += H ** 2 * output_dim\n",
    "    print('channelwise, with pooling:', cwFLOP)\n",
    "    \n",
    "    return FLOPs\n",
    "\n",
    "input = [3, 32, 32]\n",
    "kernel = [3, 3, 3]\n",
    "stride = 1\n",
    "pooling = 1\n",
    "res = FLOPs_SSL(input, kernel, stride, pooling)\n",
    "\n",
    "print('FLOPs:', res/1e6, 'M')"
   ]
  },
  {
   "attachments": {},
   "cell_type": "markdown",
   "metadata": {},
   "source": [
    "# GBDT"
   ]
  },
  {
   "cell_type": "code",
   "execution_count": 39,
   "metadata": {},
   "outputs": [
    {
     "name": "stdout",
     "output_type": "stream",
     "text": [
      "model size: 0.352 M\n"
     ]
    }
   ],
   "source": [
    "# model size calculation\n",
    "\n",
    "depth = 5\n",
    "num_class = 10\n",
    "num_tree = 1000\n",
    "\n",
    "parentnode = 2 ** (depth - 1) * 2 # 2: feature idx for splitting, and splitting point\n",
    "childnode = 2 ** depth * num_class # prediction result for each class stored in each child node\n",
    "singletree = parentnode + childnode\n",
    "modelsize = singletree * num_tree\n",
    "\n",
    "print('model size:', modelsize/1e6, 'M')"
   ]
  },
  {
   "cell_type": "code",
   "execution_count": 38,
   "metadata": {},
   "outputs": [
    {
     "name": "stdout",
     "output_type": "stream",
     "text": [
      "FLOPs: 8.014 M\n"
     ]
    }
   ],
   "source": [
    "# FLOPs calculation\n",
    "\n",
    "depth = 5\n",
    "num_class = 10\n",
    "num_tree = 1000\n",
    "feat_dim = 2000\n",
    "parent_splitting = feat_dim + 1 # find the feature for splititng and compare with the splitting point\n",
    "find_childnode = parent_splitting * (depth - 1) # go through depth - 1 parent nodes to find the child node\n",
    "single_tree = find_childnode + num_class # find the current tree prediction, add to the total prediction\n",
    "FLOPs = single_tree * num_tree\n",
    "\n",
    "print('FLOPs:', FLOPs/1e6, 'M')"
   ]
  },
  {
   "attachments": {},
   "cell_type": "markdown",
   "metadata": {},
   "source": [
    "# MLP"
   ]
  },
  {
   "cell_type": "code",
   "execution_count": 41,
   "metadata": {},
   "outputs": [
    {
     "name": "stdout",
     "output_type": "stream",
     "text": [
      "FLOPs: 0.306 M\n"
     ]
    }
   ],
   "source": [
    "feat_dim = 500\n",
    "hidden = 300\n",
    "num_class = 10\n",
    "\n",
    "FLOPs = feat_dim * hidden + hidden * num_class\n",
    "FLOPs *= 2\n",
    "print('FLOPs:', FLOPs/1e6, 'M')"
   ]
  },
  {
   "attachments": {},
   "cell_type": "markdown",
   "metadata": {},
   "source": [
    "# calculate real models:"
   ]
  },
  {
   "cell_type": "code",
   "execution_count": 28,
   "metadata": {},
   "outputs": [
    {
     "name": "stdout",
     "output_type": "stream",
     "text": [
      "FLOPs: 9216\n"
     ]
    }
   ],
   "source": [
    "input = [3, 32, 32]\n",
    "kernel = [3, 1, 1]\n",
    "stride = 1\n",
    "pooling = 0\n",
    "res = FLOPs_SSL(input, kernel, stride, pooling, cw = 0)\n",
    "\n",
    "print('FLOPs:', res)"
   ]
  },
  {
   "cell_type": "code",
   "execution_count": 29,
   "metadata": {},
   "outputs": [
    {
     "name": "stdout",
     "output_type": "stream",
     "text": [
      "FLOPs: 1568784\n"
     ]
    }
   ],
   "source": [
    "input = [3, 32, 32]\n",
    "kernel = [3, 5, 5]\n",
    "stride = 1\n",
    "pooling = 1\n",
    "res = FLOPs_SSL(input, kernel, stride, pooling, output_dim = 42)\n",
    "\n",
    "print('FLOPs:', res)"
   ]
  },
  {
   "cell_type": "code",
   "execution_count": 30,
   "metadata": {},
   "outputs": [
    {
     "name": "stdout",
     "output_type": "stream",
     "text": [
      "FLOPs: 3691800\n"
     ]
    }
   ],
   "source": [
    "input = [42, 14, 14]\n",
    "kernel = [42, 5, 5]\n",
    "stride = 1\n",
    "pooling = 1\n",
    "res = FLOPs_SSL(input, kernel, stride, pooling, output_dim = 254)\n",
    "\n",
    "print('FLOPs:', res)"
   ]
  },
  {
   "cell_type": "code",
   "execution_count": 31,
   "metadata": {},
   "outputs": [
    {
     "name": "stdout",
     "output_type": "stream",
     "text": [
      "FLOPs: 158750\n"
     ]
    }
   ],
   "source": [
    "input = [254, 5, 5]\n",
    "kernel = [254, 5, 5]\n",
    "stride = 1\n",
    "pooling = 0\n",
    "res = FLOPs_SSL(input, kernel, stride, pooling)\n",
    "\n",
    "print('FLOPs:', res)"
   ]
  },
  {
   "cell_type": "code",
   "execution_count": 33,
   "metadata": {},
   "outputs": [
    {
     "name": "stdout",
     "output_type": "stream",
     "text": [
      "FLOPs: 5.42855 M\n"
     ]
    }
   ],
   "source": [
    "flops = 9216 + 1568784 + 3691800 + 158750\n",
    "print('FLOPs:', flops/1e6, 'M')"
   ]
  },
  {
   "attachments": {},
   "cell_type": "markdown",
   "metadata": {},
   "source": [
    "# Calculate HAAR"
   ]
  },
  {
   "cell_type": "code",
   "execution_count": 44,
   "metadata": {},
   "outputs": [
    {
     "name": "stdout",
     "output_type": "stream",
     "text": [
      "channelwise, without pooling: 15376\n",
      "channelwise, with pooling: 26908\n",
      "FLOPs: 80724\n"
     ]
    }
   ],
   "source": [
    "input = [3, 32, 32]\n",
    "kernel = [3, 2, 2]\n",
    "stride = 1\n",
    "pooling = 1\n",
    "res = FLOPs_SSL(input, kernel, stride, pooling, cw = 1)\n",
    "\n",
    "print('FLOPs:', res)"
   ]
  }
 ],
 "metadata": {
  "kernelspec": {
   "display_name": "Python 3",
   "language": "python",
   "name": "python3"
  },
  "language_info": {
   "codemirror_mode": {
    "name": "ipython",
    "version": 3
   },
   "file_extension": ".py",
   "mimetype": "text/x-python",
   "name": "python",
   "nbconvert_exporter": "python",
   "pygments_lexer": "ipython3",
   "version": "3.8.10"
  },
  "orig_nbformat": 4,
  "vscode": {
   "interpreter": {
    "hash": "31f2aee4e71d21fbe5cf8b01ff0e069b9275f58929596ceb00d14d90e3e16cd6"
   }
  }
 },
 "nbformat": 4,
 "nbformat_minor": 2
}
